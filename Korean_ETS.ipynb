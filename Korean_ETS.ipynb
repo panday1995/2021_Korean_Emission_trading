{
 "cells": [
  {
   "cell_type": "code",
   "execution_count": 1,
   "metadata": {},
   "outputs": [
    {
     "data": {
      "application/javascript": [
       "\n",
       "            setTimeout(function() {\n",
       "                var nbb_cell_id = 1;\n",
       "                var nbb_unformatted_code = \"from matplotlib.colors import ListedColormap\\n\\nimport matplotlib.pyplot as plt\\nimport numpy as np\\nimport os\\nimport pandas as pd\\nimport pickle\\nimport pulp\\nimport seaborn as sns\\n\\n%load_ext nb_black\";\n",
       "                var nbb_formatted_code = \"from matplotlib.colors import ListedColormap\\n\\nimport matplotlib.pyplot as plt\\nimport numpy as np\\nimport os\\nimport pandas as pd\\nimport pickle\\nimport pulp\\nimport seaborn as sns\\n\\n%load_ext nb_black\";\n",
       "                var nbb_cells = Jupyter.notebook.get_cells();\n",
       "                for (var i = 0; i < nbb_cells.length; ++i) {\n",
       "                    if (nbb_cells[i].input_prompt_number == nbb_cell_id) {\n",
       "                        if (nbb_cells[i].get_text() == nbb_unformatted_code) {\n",
       "                             nbb_cells[i].set_text(nbb_formatted_code);\n",
       "                        }\n",
       "                        break;\n",
       "                    }\n",
       "                }\n",
       "            }, 500);\n",
       "            "
      ],
      "text/plain": [
       "<IPython.core.display.Javascript object>"
      ]
     },
     "metadata": {},
     "output_type": "display_data"
    }
   ],
   "source": [
    "from matplotlib.colors import ListedColormap\n",
    "\n",
    "import matplotlib.pyplot as plt\n",
    "import numpy as np\n",
    "import os\n",
    "import pandas as pd\n",
    "import pickle\n",
    "import pulp\n",
    "import seaborn as sns\n",
    "\n",
    "%load_ext nb_black"
   ]
  },
  {
   "cell_type": "markdown",
   "metadata": {},
   "source": [
    "# Data import and analysis"
   ]
  },
  {
   "cell_type": "code",
   "execution_count": 2,
   "metadata": {},
   "outputs": [
    {
     "data": {
      "application/javascript": [
       "\n",
       "            setTimeout(function() {\n",
       "                var nbb_cell_id = 2;\n",
       "                var nbb_unformatted_code = \"data_path = r\\\"D:\\\\tencent_files\\\\chrome_Download\\\\Research\\\\DEA\\\\Emission_alloc&trade\\\\Data\\\"\\ndata_excel = \\\"Data.xlsx\\\"\\nsheet_name_ls = [str(i) for i in range(11, 16)]\";\n",
       "                var nbb_formatted_code = \"data_path = r\\\"D:\\\\tencent_files\\\\chrome_Download\\\\Research\\\\DEA\\\\Emission_alloc&trade\\\\Data\\\"\\ndata_excel = \\\"Data.xlsx\\\"\\nsheet_name_ls = [str(i) for i in range(11, 16)]\";\n",
       "                var nbb_cells = Jupyter.notebook.get_cells();\n",
       "                for (var i = 0; i < nbb_cells.length; ++i) {\n",
       "                    if (nbb_cells[i].input_prompt_number == nbb_cell_id) {\n",
       "                        if (nbb_cells[i].get_text() == nbb_unformatted_code) {\n",
       "                             nbb_cells[i].set_text(nbb_formatted_code);\n",
       "                        }\n",
       "                        break;\n",
       "                    }\n",
       "                }\n",
       "            }, 500);\n",
       "            "
      ],
      "text/plain": [
       "<IPython.core.display.Javascript object>"
      ]
     },
     "metadata": {},
     "output_type": "display_data"
    }
   ],
   "source": [
    "data_path = r\"D:\\tencent_files\\chrome_Download\\Research\\DEA\\Emission_alloc&trade\\Data\"\n",
    "data_excel = \"Data.xlsx\"\n",
    "sheet_name_ls = [str(i) for i in range(11, 16)]"
   ]
  },
  {
   "cell_type": "code",
   "execution_count": 3,
   "metadata": {},
   "outputs": [
    {
     "data": {
      "application/javascript": [
       "\n",
       "            setTimeout(function() {\n",
       "                var nbb_cell_id = 3;\n",
       "                var nbb_unformatted_code = \"def read_data(sheet_name, path=data_path):\\n    data = pd.read_excel(\\n        os.path.join(path, data_excel),\\n        sheet_name=sheet_name,\\n        header=0,\\n        index_col=[0, 1, 2],\\n    )\\n    return data\";\n",
       "                var nbb_formatted_code = \"def read_data(sheet_name, path=data_path):\\n    data = pd.read_excel(\\n        os.path.join(path, data_excel),\\n        sheet_name=sheet_name,\\n        header=0,\\n        index_col=[0, 1, 2],\\n    )\\n    return data\";\n",
       "                var nbb_cells = Jupyter.notebook.get_cells();\n",
       "                for (var i = 0; i < nbb_cells.length; ++i) {\n",
       "                    if (nbb_cells[i].input_prompt_number == nbb_cell_id) {\n",
       "                        if (nbb_cells[i].get_text() == nbb_unformatted_code) {\n",
       "                             nbb_cells[i].set_text(nbb_formatted_code);\n",
       "                        }\n",
       "                        break;\n",
       "                    }\n",
       "                }\n",
       "            }, 500);\n",
       "            "
      ],
      "text/plain": [
       "<IPython.core.display.Javascript object>"
      ]
     },
     "metadata": {},
     "output_type": "display_data"
    }
   ],
   "source": [
    "def read_data(sheet_name, path=data_path):\n",
    "    data = pd.read_excel(\n",
    "        os.path.join(path, data_excel),\n",
    "        sheet_name=sheet_name,\n",
    "        header=0,\n",
    "        index_col=[0, 1, 2],\n",
    "    )\n",
    "    return data"
   ]
  },
  {
   "cell_type": "code",
   "execution_count": 4,
   "metadata": {},
   "outputs": [
    {
     "data": {
      "application/javascript": [
       "\n",
       "            setTimeout(function() {\n",
       "                var nbb_cell_id = 4;\n",
       "                var nbb_unformatted_code = \"def data_description(data, column):\\n    col_mean = data.loc[:, column].mean()\\n    col_max = data.loc[:, column].max()\\n    col_min = data.loc[:, column].min()\\n    col_std = data.loc[:, column].std()\\n    return col_mean, col_max, col_min, col_std\";\n",
       "                var nbb_formatted_code = \"def data_description(data, column):\\n    col_mean = data.loc[:, column].mean()\\n    col_max = data.loc[:, column].max()\\n    col_min = data.loc[:, column].min()\\n    col_std = data.loc[:, column].std()\\n    return col_mean, col_max, col_min, col_std\";\n",
       "                var nbb_cells = Jupyter.notebook.get_cells();\n",
       "                for (var i = 0; i < nbb_cells.length; ++i) {\n",
       "                    if (nbb_cells[i].input_prompt_number == nbb_cell_id) {\n",
       "                        if (nbb_cells[i].get_text() == nbb_unformatted_code) {\n",
       "                             nbb_cells[i].set_text(nbb_formatted_code);\n",
       "                        }\n",
       "                        break;\n",
       "                    }\n",
       "                }\n",
       "            }, 500);\n",
       "            "
      ],
      "text/plain": [
       "<IPython.core.display.Javascript object>"
      ]
     },
     "metadata": {},
     "output_type": "display_data"
    }
   ],
   "source": [
    "def data_description(data, column):\n",
    "    col_mean = data.loc[:, column].mean()\n",
    "    col_max = data.loc[:, column].max()\n",
    "    col_min = data.loc[:, column].min()\n",
    "    col_std = data.loc[:, column].std()\n",
    "    return col_mean, col_max, col_min, col_std"
   ]
  },
  {
   "cell_type": "code",
   "execution_count": 5,
   "metadata": {},
   "outputs": [
    {
     "data": {
      "application/javascript": [
       "\n",
       "            setTimeout(function() {\n",
       "                var nbb_cell_id = 5;\n",
       "                var nbb_unformatted_code = \"def meta_data():\\n    meta_data_dict = {}\\n    for sheet_name in sheet_name_ls:\\n        data = read_data(sheet_name)\\n        year_data_dict = {}\\n        for column in data.columns:\\n            column_dict = {}\\n            year_data_dict[column] = column_dict\\n            col_mean, col_max, col_min, col_std = data_description(data, column)\\n            column_dict[\\\"mean\\\"] = col_mean\\n            column_dict[\\\"std\\\"] = col_std\\n            column_dict[\\\"max\\\"] = col_max\\n            column_dict[\\\"min\\\"] = col_min\\n        meta_data_dict[sheet_name] = year_data_dict\\n    return meta_data_dict\";\n",
       "                var nbb_formatted_code = \"def meta_data():\\n    meta_data_dict = {}\\n    for sheet_name in sheet_name_ls:\\n        data = read_data(sheet_name)\\n        year_data_dict = {}\\n        for column in data.columns:\\n            column_dict = {}\\n            year_data_dict[column] = column_dict\\n            col_mean, col_max, col_min, col_std = data_description(data, column)\\n            column_dict[\\\"mean\\\"] = col_mean\\n            column_dict[\\\"std\\\"] = col_std\\n            column_dict[\\\"max\\\"] = col_max\\n            column_dict[\\\"min\\\"] = col_min\\n        meta_data_dict[sheet_name] = year_data_dict\\n    return meta_data_dict\";\n",
       "                var nbb_cells = Jupyter.notebook.get_cells();\n",
       "                for (var i = 0; i < nbb_cells.length; ++i) {\n",
       "                    if (nbb_cells[i].input_prompt_number == nbb_cell_id) {\n",
       "                        if (nbb_cells[i].get_text() == nbb_unformatted_code) {\n",
       "                             nbb_cells[i].set_text(nbb_formatted_code);\n",
       "                        }\n",
       "                        break;\n",
       "                    }\n",
       "                }\n",
       "            }, 500);\n",
       "            "
      ],
      "text/plain": [
       "<IPython.core.display.Javascript object>"
      ]
     },
     "metadata": {},
     "output_type": "display_data"
    }
   ],
   "source": [
    "def meta_data():\n",
    "    meta_data_dict = {}\n",
    "    for sheet_name in sheet_name_ls:\n",
    "        data = read_data(sheet_name)\n",
    "        year_data_dict = {}\n",
    "        for column in data.columns:\n",
    "            column_dict = {}\n",
    "            year_data_dict[column] = column_dict\n",
    "            col_mean, col_max, col_min, col_std = data_description(data, column)\n",
    "            column_dict[\"mean\"] = col_mean\n",
    "            column_dict[\"std\"] = col_std\n",
    "            column_dict[\"max\"] = col_max\n",
    "            column_dict[\"min\"] = col_min\n",
    "        meta_data_dict[sheet_name] = year_data_dict\n",
    "    return meta_data_dict"
   ]
  },
  {
   "cell_type": "code",
   "execution_count": 6,
   "metadata": {},
   "outputs": [
    {
     "data": {
      "application/javascript": [
       "\n",
       "            setTimeout(function() {\n",
       "                var nbb_cell_id = 6;\n",
       "                var nbb_unformatted_code = \"data_anal = meta_data()\";\n",
       "                var nbb_formatted_code = \"data_anal = meta_data()\";\n",
       "                var nbb_cells = Jupyter.notebook.get_cells();\n",
       "                for (var i = 0; i < nbb_cells.length; ++i) {\n",
       "                    if (nbb_cells[i].input_prompt_number == nbb_cell_id) {\n",
       "                        if (nbb_cells[i].get_text() == nbb_unformatted_code) {\n",
       "                             nbb_cells[i].set_text(nbb_formatted_code);\n",
       "                        }\n",
       "                        break;\n",
       "                    }\n",
       "                }\n",
       "            }, 500);\n",
       "            "
      ],
      "text/plain": [
       "<IPython.core.display.Javascript object>"
      ]
     },
     "metadata": {},
     "output_type": "display_data"
    }
   ],
   "source": [
    "data_anal = meta_data()"
   ]
  },
  {
   "cell_type": "code",
   "execution_count": 7,
   "metadata": {},
   "outputs": [
    {
     "data": {
      "application/javascript": [
       "\n",
       "            setTimeout(function() {\n",
       "                var nbb_cell_id = 7;\n",
       "                var nbb_unformatted_code = \"a = pd.DataFrame.from_dict(\\n    {(i, j): data_anal[i][j] for i in data_anal.keys() for j in data_anal[i].keys()},\\n    orient=\\\"index\\\",\\n)  # construct dataframe from multilevel dictionary\\na.round(1).to_excel(os.path.join(data_path, \\\"data_description.xlsx\\\"))\";\n",
       "                var nbb_formatted_code = \"a = pd.DataFrame.from_dict(\\n    {(i, j): data_anal[i][j] for i in data_anal.keys() for j in data_anal[i].keys()},\\n    orient=\\\"index\\\",\\n)  # construct dataframe from multilevel dictionary\\na.round(1).to_excel(os.path.join(data_path, \\\"data_description.xlsx\\\"))\";\n",
       "                var nbb_cells = Jupyter.notebook.get_cells();\n",
       "                for (var i = 0; i < nbb_cells.length; ++i) {\n",
       "                    if (nbb_cells[i].input_prompt_number == nbb_cell_id) {\n",
       "                        if (nbb_cells[i].get_text() == nbb_unformatted_code) {\n",
       "                             nbb_cells[i].set_text(nbb_formatted_code);\n",
       "                        }\n",
       "                        break;\n",
       "                    }\n",
       "                }\n",
       "            }, 500);\n",
       "            "
      ],
      "text/plain": [
       "<IPython.core.display.Javascript object>"
      ]
     },
     "metadata": {},
     "output_type": "display_data"
    }
   ],
   "source": [
    "a = pd.DataFrame.from_dict(\n",
    "    {(i, j): data_anal[i][j] for i in data_anal.keys() for j in data_anal[i].keys()},\n",
    "    orient=\"index\",\n",
    ")  # construct dataframe from multilevel dictionary\n",
    "a.round(1).to_excel(os.path.join(data_path, \"data_description.xlsx\"))"
   ]
  },
  {
   "cell_type": "code",
   "execution_count": 8,
   "metadata": {},
   "outputs": [
    {
     "data": {
      "application/javascript": [
       "\n",
       "            setTimeout(function() {\n",
       "                var nbb_cell_id = 8;\n",
       "                var nbb_unformatted_code = \"def sum_data(col_name):\\n    base_case_ls = []\\n    for sheet_name in sheet_name_ls:\\n        data = read_data(sheet_name)\\n        base_case = data.loc[:, col_name].sum()\\n        base_case_ls.append(base_case)\\n    return base_case_ls\";\n",
       "                var nbb_formatted_code = \"def sum_data(col_name):\\n    base_case_ls = []\\n    for sheet_name in sheet_name_ls:\\n        data = read_data(sheet_name)\\n        base_case = data.loc[:, col_name].sum()\\n        base_case_ls.append(base_case)\\n    return base_case_ls\";\n",
       "                var nbb_cells = Jupyter.notebook.get_cells();\n",
       "                for (var i = 0; i < nbb_cells.length; ++i) {\n",
       "                    if (nbb_cells[i].input_prompt_number == nbb_cell_id) {\n",
       "                        if (nbb_cells[i].get_text() == nbb_unformatted_code) {\n",
       "                             nbb_cells[i].set_text(nbb_formatted_code);\n",
       "                        }\n",
       "                        break;\n",
       "                    }\n",
       "                }\n",
       "            }, 500);\n",
       "            "
      ],
      "text/plain": [
       "<IPython.core.display.Javascript object>"
      ]
     },
     "metadata": {},
     "output_type": "display_data"
    }
   ],
   "source": [
    "def sum_data(col_name):\n",
    "    base_case_ls = []\n",
    "    for sheet_name in sheet_name_ls:\n",
    "        data = read_data(sheet_name)\n",
    "        base_case = data.loc[:, col_name].sum()\n",
    "        base_case_ls.append(base_case)\n",
    "    return base_case_ls"
   ]
  },
  {
   "cell_type": "code",
   "execution_count": 9,
   "metadata": {},
   "outputs": [
    {
     "data": {
      "application/javascript": [
       "\n",
       "            setTimeout(function() {\n",
       "                var nbb_cell_id = 9;\n",
       "                var nbb_unformatted_code = \"base_case_ls = sum_data(\\\"Electricity (MWh)\\\")\";\n",
       "                var nbb_formatted_code = \"base_case_ls = sum_data(\\\"Electricity (MWh)\\\")\";\n",
       "                var nbb_cells = Jupyter.notebook.get_cells();\n",
       "                for (var i = 0; i < nbb_cells.length; ++i) {\n",
       "                    if (nbb_cells[i].input_prompt_number == nbb_cell_id) {\n",
       "                        if (nbb_cells[i].get_text() == nbb_unformatted_code) {\n",
       "                             nbb_cells[i].set_text(nbb_formatted_code);\n",
       "                        }\n",
       "                        break;\n",
       "                    }\n",
       "                }\n",
       "            }, 500);\n",
       "            "
      ],
      "text/plain": [
       "<IPython.core.display.Javascript object>"
      ]
     },
     "metadata": {},
     "output_type": "display_data"
    }
   ],
   "source": [
    "base_case_ls = sum_data(\"Electricity (MWh)\")"
   ]
  },
  {
   "cell_type": "code",
   "execution_count": 10,
   "metadata": {},
   "outputs": [
    {
     "data": {
      "text/plain": [
       "[201795377, 199329717, 201118832, 203765393, 204214422]"
      ]
     },
     "execution_count": 10,
     "metadata": {},
     "output_type": "execute_result"
    },
    {
     "data": {
      "application/javascript": [
       "\n",
       "            setTimeout(function() {\n",
       "                var nbb_cell_id = 10;\n",
       "                var nbb_unformatted_code = \"base_case_ls\";\n",
       "                var nbb_formatted_code = \"base_case_ls\";\n",
       "                var nbb_cells = Jupyter.notebook.get_cells();\n",
       "                for (var i = 0; i < nbb_cells.length; ++i) {\n",
       "                    if (nbb_cells[i].input_prompt_number == nbb_cell_id) {\n",
       "                        if (nbb_cells[i].get_text() == nbb_unformatted_code) {\n",
       "                             nbb_cells[i].set_text(nbb_formatted_code);\n",
       "                        }\n",
       "                        break;\n",
       "                    }\n",
       "                }\n",
       "            }, 500);\n",
       "            "
      ],
      "text/plain": [
       "<IPython.core.display.Javascript object>"
      ]
     },
     "metadata": {},
     "output_type": "display_data"
    }
   ],
   "source": [
    "base_case_ls"
   ]
  },
  {
   "cell_type": "code",
   "execution_count": 11,
   "metadata": {},
   "outputs": [
    {
     "data": {
      "application/javascript": [
       "\n",
       "            setTimeout(function() {\n",
       "                var nbb_cell_id = 11;\n",
       "                var nbb_unformatted_code = \"base_case_emission_ls = sum_data(\\\"total CO2 (t)\\\")\";\n",
       "                var nbb_formatted_code = \"base_case_emission_ls = sum_data(\\\"total CO2 (t)\\\")\";\n",
       "                var nbb_cells = Jupyter.notebook.get_cells();\n",
       "                for (var i = 0; i < nbb_cells.length; ++i) {\n",
       "                    if (nbb_cells[i].input_prompt_number == nbb_cell_id) {\n",
       "                        if (nbb_cells[i].get_text() == nbb_unformatted_code) {\n",
       "                             nbb_cells[i].set_text(nbb_formatted_code);\n",
       "                        }\n",
       "                        break;\n",
       "                    }\n",
       "                }\n",
       "            }, 500);\n",
       "            "
      ],
      "text/plain": [
       "<IPython.core.display.Javascript object>"
      ]
     },
     "metadata": {},
     "output_type": "display_data"
    }
   ],
   "source": [
    "base_case_emission_ls = sum_data(\"total CO2 (t)\")"
   ]
  },
  {
   "cell_type": "code",
   "execution_count": 12,
   "metadata": {},
   "outputs": [
    {
     "data": {
      "text/plain": [
       "[151995742.01110256,\n",
       " 148405328.71099156,\n",
       " 148217248.1876834,\n",
       " 144061541.98333868,\n",
       " 145896132.6576116]"
      ]
     },
     "execution_count": 12,
     "metadata": {},
     "output_type": "execute_result"
    },
    {
     "data": {
      "application/javascript": [
       "\n",
       "            setTimeout(function() {\n",
       "                var nbb_cell_id = 12;\n",
       "                var nbb_unformatted_code = \"base_case_emission_ls\";\n",
       "                var nbb_formatted_code = \"base_case_emission_ls\";\n",
       "                var nbb_cells = Jupyter.notebook.get_cells();\n",
       "                for (var i = 0; i < nbb_cells.length; ++i) {\n",
       "                    if (nbb_cells[i].input_prompt_number == nbb_cell_id) {\n",
       "                        if (nbb_cells[i].get_text() == nbb_unformatted_code) {\n",
       "                             nbb_cells[i].set_text(nbb_formatted_code);\n",
       "                        }\n",
       "                        break;\n",
       "                    }\n",
       "                }\n",
       "            }, 500);\n",
       "            "
      ],
      "text/plain": [
       "<IPython.core.display.Javascript object>"
      ]
     },
     "metadata": {},
     "output_type": "display_data"
    }
   ],
   "source": [
    "base_case_emission_ls"
   ]
  },
  {
   "cell_type": "code",
   "execution_count": 13,
   "metadata": {},
   "outputs": [
    {
     "data": {
      "application/javascript": [
       "\n",
       "            setTimeout(function() {\n",
       "                var nbb_cell_id = 13;\n",
       "                var nbb_unformatted_code = \"base_case_capacity_ls = sum_data(\\\"Capacity (kW)\\\")\";\n",
       "                var nbb_formatted_code = \"base_case_capacity_ls = sum_data(\\\"Capacity (kW)\\\")\";\n",
       "                var nbb_cells = Jupyter.notebook.get_cells();\n",
       "                for (var i = 0; i < nbb_cells.length; ++i) {\n",
       "                    if (nbb_cells[i].input_prompt_number == nbb_cell_id) {\n",
       "                        if (nbb_cells[i].get_text() == nbb_unformatted_code) {\n",
       "                             nbb_cells[i].set_text(nbb_formatted_code);\n",
       "                        }\n",
       "                        break;\n",
       "                    }\n",
       "                }\n",
       "            }, 500);\n",
       "            "
      ],
      "text/plain": [
       "<IPython.core.display.Javascript object>"
      ]
     },
     "metadata": {},
     "output_type": "display_data"
    }
   ],
   "source": [
    "base_case_capacity_ls = sum_data(\"Capacity (kW)\")"
   ]
  },
  {
   "cell_type": "code",
   "execution_count": 14,
   "metadata": {},
   "outputs": [
    {
     "data": {
      "text/plain": [
       "[24533600, 24533600, 24533600, 26273600, 25945000]"
      ]
     },
     "execution_count": 14,
     "metadata": {},
     "output_type": "execute_result"
    },
    {
     "data": {
      "application/javascript": [
       "\n",
       "            setTimeout(function() {\n",
       "                var nbb_cell_id = 14;\n",
       "                var nbb_unformatted_code = \"base_case_capacity_ls\";\n",
       "                var nbb_formatted_code = \"base_case_capacity_ls\";\n",
       "                var nbb_cells = Jupyter.notebook.get_cells();\n",
       "                for (var i = 0; i < nbb_cells.length; ++i) {\n",
       "                    if (nbb_cells[i].input_prompt_number == nbb_cell_id) {\n",
       "                        if (nbb_cells[i].get_text() == nbb_unformatted_code) {\n",
       "                             nbb_cells[i].set_text(nbb_formatted_code);\n",
       "                        }\n",
       "                        break;\n",
       "                    }\n",
       "                }\n",
       "            }, 500);\n",
       "            "
      ],
      "text/plain": [
       "<IPython.core.display.Javascript object>"
      ]
     },
     "metadata": {},
     "output_type": "display_data"
    }
   ],
   "source": [
    "base_case_capacity_ls"
   ]
  },
  {
   "cell_type": "markdown",
   "metadata": {},
   "source": [
    "# Command and Control"
   ]
  },
  {
   "cell_type": "code",
   "execution_count": 15,
   "metadata": {},
   "outputs": [
    {
     "data": {
      "application/javascript": [
       "\n",
       "            setTimeout(function() {\n",
       "                var nbb_cell_id = 15;\n",
       "                var nbb_unformatted_code = \"class CAC:\\n    def __init__(\\n        self,\\n        inputs,\\n        outputs,\\n        bad_outs,\\n        returns=\\\"CRS\\\",\\n        disp=\\\"weak disposability\\\",\\n        in_bound=[0, None],\\n        out_bound=[0, None],\\n        badout_bound=[0, None],\\n    ):\\n        self.inputs = inputs\\n        self.outputs = outputs\\n        self.bad_outs = bad_outs\\n        self.returns = returns\\n        self.disp = disp\\n\\n        self.J, self.I = self.inputs.shape  # no of DMUs, inputs\\n        _, self.R = self.outputs.shape  # no of outputs\\n        _, self.S = self.bad_outs.shape  # no of bad outputs\\n        self._i = range(self.I)  # inputs\\n        self._r = range(self.R)  # outputs\\n        self._s = range(self.S)  # bad_output\\n        self._j = range(self.J)  # DMUs\\n\\n        self._in_bound = in_bound  # input weight restrictions\\n        self._out_bound = out_bound  # output weight restrictions\\n        self._badout_bound = badout_bound  # bad output weight restrictions\\n\\n        # creates dictionary of pulp.LpProblem objects for the DMUs\\n        self.dmus = self._create_problems()\\n\\n    def _create_problems(self):\\n        \\\"\\\"\\\"\\n        Iterate over the DMU and create a dictionary of LP problems, one\\n        for each DMU.\\n        \\\"\\\"\\\"\\n\\n        dmu_dict = {}\\n        for j0 in self._j:\\n            dmu_dict[j0] = self._make_problem(j0)\\n        return dmu_dict\\n\\n    def _make_problem(self, j0):\\n        prob = pulp.LpProblem(\\\"Output_maximization\\\", pulp.LpMaximize)\\n\\n        # variables for optimized output\\n        self.wave_y = pulp.LpVariable.dicts(\\n            \\\"optimized_y\\\", (self._r), lowBound=self._out_bound[0]\\n        )\\n\\n        self.weights = pulp.LpVariable.dicts(\\n            \\\"weight\\\", (self._j), lowBound=self._in_bound[0]\\n        )\\n        # objective function\\n        prob += pulp.lpSum(self.wave_y)\\n\\n        for i in self._i:\\n            prob += (\\n                pulp.lpSum(\\n                    [(self.weights[j0] * self.inputs.values[j0][i]) for j0 in self._j]\\n                )\\n                <= self.inputs.values[j0][i]\\n            )\\n\\n        for r in self._r:\\n            prob += (\\n                pulp.lpSum(\\n                    [(self.weights[j0] * self.outputs.values[j0][r]) for j0 in self._j]\\n                )\\n                >= self.wave_y[r]\\n            )\\n\\n        if self.disp == \\\"weak disposability\\\":\\n            for s in self._s:  # weak disposability\\n                prob += (\\n                    pulp.lpSum(\\n                        [\\n                            (self.weights[j0] * self.bad_outs.values[j0][s])\\n                            for j0 in self._j\\n                        ]\\n                    )\\n                    == self.bad_outs.values[j0][s]\\n                )\\n\\n        elif self.disp == \\\"strong disposability\\\":\\n            None\\n        #             for s in self._s:  # strong disposability\\n        #                 prob += (\\n        #                     pulp.lpSum(\\n        #                         [\\n        #                             (self.weights[j0] * self.bad_outs.values[j0][s])\\n        #                             for j0 in self._j\\n        #                         ]\\n        #                     )\\n        #                     >= self.bad_outs.values[j0][s]\\n        #                 )\\n\\n        return prob\\n\\n    def solve(self):\\n        \\\"\\\"\\\"\\n        Iterate over the dictionary of DMUs' problems, solve them, and collate\\n        the results into a pandas dataframe.\\n        \\\"\\\"\\\"\\n\\n        sol_status = {}\\n        sol_weights = {}\\n        sol_efficiency = {}\\n\\n        for ind, problem in list(self.dmus.items()):\\n            problem.solve()\\n            sol_status[ind] = pulp.LpStatus[problem.status]\\n            sol_weights[ind] = {}\\n            for v in problem.variables():\\n                sol_weights[ind][v.name] = v.varValue\\n            sol_efficiency[ind] = pulp.value(problem.objective)\\n        return sol_status, sol_efficiency, sol_weights\";\n",
       "                var nbb_formatted_code = \"class CAC:\\n    def __init__(\\n        self,\\n        inputs,\\n        outputs,\\n        bad_outs,\\n        returns=\\\"CRS\\\",\\n        disp=\\\"weak disposability\\\",\\n        in_bound=[0, None],\\n        out_bound=[0, None],\\n        badout_bound=[0, None],\\n    ):\\n        self.inputs = inputs\\n        self.outputs = outputs\\n        self.bad_outs = bad_outs\\n        self.returns = returns\\n        self.disp = disp\\n\\n        self.J, self.I = self.inputs.shape  # no of DMUs, inputs\\n        _, self.R = self.outputs.shape  # no of outputs\\n        _, self.S = self.bad_outs.shape  # no of bad outputs\\n        self._i = range(self.I)  # inputs\\n        self._r = range(self.R)  # outputs\\n        self._s = range(self.S)  # bad_output\\n        self._j = range(self.J)  # DMUs\\n\\n        self._in_bound = in_bound  # input weight restrictions\\n        self._out_bound = out_bound  # output weight restrictions\\n        self._badout_bound = badout_bound  # bad output weight restrictions\\n\\n        # creates dictionary of pulp.LpProblem objects for the DMUs\\n        self.dmus = self._create_problems()\\n\\n    def _create_problems(self):\\n        \\\"\\\"\\\"\\n        Iterate over the DMU and create a dictionary of LP problems, one\\n        for each DMU.\\n        \\\"\\\"\\\"\\n\\n        dmu_dict = {}\\n        for j0 in self._j:\\n            dmu_dict[j0] = self._make_problem(j0)\\n        return dmu_dict\\n\\n    def _make_problem(self, j0):\\n        prob = pulp.LpProblem(\\\"Output_maximization\\\", pulp.LpMaximize)\\n\\n        # variables for optimized output\\n        self.wave_y = pulp.LpVariable.dicts(\\n            \\\"optimized_y\\\", (self._r), lowBound=self._out_bound[0]\\n        )\\n\\n        self.weights = pulp.LpVariable.dicts(\\n            \\\"weight\\\", (self._j), lowBound=self._in_bound[0]\\n        )\\n        # objective function\\n        prob += pulp.lpSum(self.wave_y)\\n\\n        for i in self._i:\\n            prob += (\\n                pulp.lpSum(\\n                    [(self.weights[j0] * self.inputs.values[j0][i]) for j0 in self._j]\\n                )\\n                <= self.inputs.values[j0][i]\\n            )\\n\\n        for r in self._r:\\n            prob += (\\n                pulp.lpSum(\\n                    [(self.weights[j0] * self.outputs.values[j0][r]) for j0 in self._j]\\n                )\\n                >= self.wave_y[r]\\n            )\\n\\n        if self.disp == \\\"weak disposability\\\":\\n            for s in self._s:  # weak disposability\\n                prob += (\\n                    pulp.lpSum(\\n                        [\\n                            (self.weights[j0] * self.bad_outs.values[j0][s])\\n                            for j0 in self._j\\n                        ]\\n                    )\\n                    == self.bad_outs.values[j0][s]\\n                )\\n\\n        elif self.disp == \\\"strong disposability\\\":\\n            None\\n        #             for s in self._s:  # strong disposability\\n        #                 prob += (\\n        #                     pulp.lpSum(\\n        #                         [\\n        #                             (self.weights[j0] * self.bad_outs.values[j0][s])\\n        #                             for j0 in self._j\\n        #                         ]\\n        #                     )\\n        #                     >= self.bad_outs.values[j0][s]\\n        #                 )\\n\\n        return prob\\n\\n    def solve(self):\\n        \\\"\\\"\\\"\\n        Iterate over the dictionary of DMUs' problems, solve them, and collate\\n        the results into a pandas dataframe.\\n        \\\"\\\"\\\"\\n\\n        sol_status = {}\\n        sol_weights = {}\\n        sol_efficiency = {}\\n\\n        for ind, problem in list(self.dmus.items()):\\n            problem.solve()\\n            sol_status[ind] = pulp.LpStatus[problem.status]\\n            sol_weights[ind] = {}\\n            for v in problem.variables():\\n                sol_weights[ind][v.name] = v.varValue\\n            sol_efficiency[ind] = pulp.value(problem.objective)\\n        return sol_status, sol_efficiency, sol_weights\";\n",
       "                var nbb_cells = Jupyter.notebook.get_cells();\n",
       "                for (var i = 0; i < nbb_cells.length; ++i) {\n",
       "                    if (nbb_cells[i].input_prompt_number == nbb_cell_id) {\n",
       "                        if (nbb_cells[i].get_text() == nbb_unformatted_code) {\n",
       "                             nbb_cells[i].set_text(nbb_formatted_code);\n",
       "                        }\n",
       "                        break;\n",
       "                    }\n",
       "                }\n",
       "            }, 500);\n",
       "            "
      ],
      "text/plain": [
       "<IPython.core.display.Javascript object>"
      ]
     },
     "metadata": {},
     "output_type": "display_data"
    }
   ],
   "source": [
    "class CAC:\n",
    "    def __init__(\n",
    "        self,\n",
    "        inputs,\n",
    "        outputs,\n",
    "        bad_outs,\n",
    "        returns=\"CRS\",\n",
    "        disp=\"weak disposability\",\n",
    "        in_bound=[0, None],\n",
    "        out_bound=[0, None],\n",
    "        badout_bound=[0, None],\n",
    "    ):\n",
    "        self.inputs = inputs\n",
    "        self.outputs = outputs\n",
    "        self.bad_outs = bad_outs\n",
    "        self.returns = returns\n",
    "        self.disp = disp\n",
    "\n",
    "        self.J, self.I = self.inputs.shape  # no of DMUs, inputs\n",
    "        _, self.R = self.outputs.shape  # no of outputs\n",
    "        _, self.S = self.bad_outs.shape  # no of bad outputs\n",
    "        self._i = range(self.I)  # inputs\n",
    "        self._r = range(self.R)  # outputs\n",
    "        self._s = range(self.S)  # bad_output\n",
    "        self._j = range(self.J)  # DMUs\n",
    "\n",
    "        self._in_bound = in_bound  # input weight restrictions\n",
    "        self._out_bound = out_bound  # output weight restrictions\n",
    "        self._badout_bound = badout_bound  # bad output weight restrictions\n",
    "\n",
    "        # creates dictionary of pulp.LpProblem objects for the DMUs\n",
    "        self.dmus = self._create_problems()\n",
    "\n",
    "    def _create_problems(self):\n",
    "        \"\"\"\n",
    "        Iterate over the DMU and create a dictionary of LP problems, one\n",
    "        for each DMU.\n",
    "        \"\"\"\n",
    "\n",
    "        dmu_dict = {}\n",
    "        for j0 in self._j:\n",
    "            dmu_dict[j0] = self._make_problem(j0)\n",
    "        return dmu_dict\n",
    "\n",
    "    def _make_problem(self, j0):\n",
    "        prob = pulp.LpProblem(\"Output_maximization\", pulp.LpMaximize)\n",
    "\n",
    "        # variables for optimized output\n",
    "        self.wave_y = pulp.LpVariable.dicts(\n",
    "            \"optimized_y\", (self._r), lowBound=self._out_bound[0]\n",
    "        )\n",
    "\n",
    "        self.weights = pulp.LpVariable.dicts(\n",
    "            \"weight\", (self._j), lowBound=self._in_bound[0]\n",
    "        )\n",
    "        # objective function\n",
    "        prob += pulp.lpSum(self.wave_y)\n",
    "\n",
    "        for i in self._i:\n",
    "            prob += (\n",
    "                pulp.lpSum(\n",
    "                    [(self.weights[j0] * self.inputs.values[j0][i]) for j0 in self._j]\n",
    "                )\n",
    "                <= self.inputs.values[j0][i]\n",
    "            )\n",
    "\n",
    "        for r in self._r:\n",
    "            prob += (\n",
    "                pulp.lpSum(\n",
    "                    [(self.weights[j0] * self.outputs.values[j0][r]) for j0 in self._j]\n",
    "                )\n",
    "                >= self.wave_y[r]\n",
    "            )\n",
    "\n",
    "        if self.disp == \"weak disposability\":\n",
    "            for s in self._s:  # weak disposability\n",
    "                prob += (\n",
    "                    pulp.lpSum(\n",
    "                        [\n",
    "                            (self.weights[j0] * self.bad_outs.values[j0][s])\n",
    "                            for j0 in self._j\n",
    "                        ]\n",
    "                    )\n",
    "                    == self.bad_outs.values[j0][s]\n",
    "                )\n",
    "\n",
    "        elif self.disp == \"strong disposability\":\n",
    "            None\n",
    "        #             for s in self._s:  # strong disposability\n",
    "        #                 prob += (\n",
    "        #                     pulp.lpSum(\n",
    "        #                         [\n",
    "        #                             (self.weights[j0] * self.bad_outs.values[j0][s])\n",
    "        #                             for j0 in self._j\n",
    "        #                         ]\n",
    "        #                     )\n",
    "        #                     >= self.bad_outs.values[j0][s]\n",
    "        #                 )\n",
    "\n",
    "        return prob\n",
    "\n",
    "    def solve(self):\n",
    "        \"\"\"\n",
    "        Iterate over the dictionary of DMUs' problems, solve them, and collate\n",
    "        the results into a pandas dataframe.\n",
    "        \"\"\"\n",
    "\n",
    "        sol_status = {}\n",
    "        sol_weights = {}\n",
    "        sol_efficiency = {}\n",
    "\n",
    "        for ind, problem in list(self.dmus.items()):\n",
    "            problem.solve()\n",
    "            sol_status[ind] = pulp.LpStatus[problem.status]\n",
    "            sol_weights[ind] = {}\n",
    "            for v in problem.variables():\n",
    "                sol_weights[ind][v.name] = v.varValue\n",
    "            sol_efficiency[ind] = pulp.value(problem.objective)\n",
    "        return sol_status, sol_efficiency, sol_weights"
   ]
  },
  {
   "cell_type": "code",
   "execution_count": 16,
   "metadata": {},
   "outputs": [
    {
     "data": {
      "application/javascript": [
       "\n",
       "            setTimeout(function() {\n",
       "                var nbb_cell_id = 16;\n",
       "                var nbb_unformatted_code = \"def data_input_env_reg(data, disp=\\\"weak disposability\\\"):\\n    X = data.loc[:, input_col]\\n    y = data.loc[:, output_col]\\n    b = data.loc[:, bad_output_col]\\n    solve = CAC(X, y, b, disp=disp).solve()\\n    return solve\";\n",
       "                var nbb_formatted_code = \"def data_input_env_reg(data, disp=\\\"weak disposability\\\"):\\n    X = data.loc[:, input_col]\\n    y = data.loc[:, output_col]\\n    b = data.loc[:, bad_output_col]\\n    solve = CAC(X, y, b, disp=disp).solve()\\n    return solve\";\n",
       "                var nbb_cells = Jupyter.notebook.get_cells();\n",
       "                for (var i = 0; i < nbb_cells.length; ++i) {\n",
       "                    if (nbb_cells[i].input_prompt_number == nbb_cell_id) {\n",
       "                        if (nbb_cells[i].get_text() == nbb_unformatted_code) {\n",
       "                             nbb_cells[i].set_text(nbb_formatted_code);\n",
       "                        }\n",
       "                        break;\n",
       "                    }\n",
       "                }\n",
       "            }, 500);\n",
       "            "
      ],
      "text/plain": [
       "<IPython.core.display.Javascript object>"
      ]
     },
     "metadata": {},
     "output_type": "display_data"
    }
   ],
   "source": [
    "def data_input_env_reg(data, disp=\"weak disposability\"):\n",
    "    X = data.loc[:, input_col]\n",
    "    y = data.loc[:, output_col]\n",
    "    b = data.loc[:, bad_output_col]\n",
    "    solve = CAC(X, y, b, disp=disp).solve()\n",
    "    return solve"
   ]
  },
  {
   "cell_type": "code",
   "execution_count": 17,
   "metadata": {},
   "outputs": [
    {
     "data": {
      "application/javascript": [
       "\n",
       "            setTimeout(function() {\n",
       "                var nbb_cell_id = 17;\n",
       "                var nbb_unformatted_code = \"def results_env_reg(data, disp=\\\"weak disposability\\\"):\\n    solve = data_input_env_reg(data, disp=disp)\\n    status = pd.DataFrame.from_dict(solve[0], orient=\\\"index\\\", columns=[\\\"status\\\"])\\n    efficiency = pd.DataFrame.from_dict(\\n        solve[1], orient=\\\"index\\\", columns=[\\\"efficiency\\\"]\\n    )\\n    weight = pd.DataFrame.from_dict(solve[2], orient=\\\"index\\\")\\n    results = pd.concat([status, efficiency, weight], axis=1)\\n    return results.round(decimals=4)\";\n",
       "                var nbb_formatted_code = \"def results_env_reg(data, disp=\\\"weak disposability\\\"):\\n    solve = data_input_env_reg(data, disp=disp)\\n    status = pd.DataFrame.from_dict(solve[0], orient=\\\"index\\\", columns=[\\\"status\\\"])\\n    efficiency = pd.DataFrame.from_dict(\\n        solve[1], orient=\\\"index\\\", columns=[\\\"efficiency\\\"]\\n    )\\n    weight = pd.DataFrame.from_dict(solve[2], orient=\\\"index\\\")\\n    results = pd.concat([status, efficiency, weight], axis=1)\\n    return results.round(decimals=4)\";\n",
       "                var nbb_cells = Jupyter.notebook.get_cells();\n",
       "                for (var i = 0; i < nbb_cells.length; ++i) {\n",
       "                    if (nbb_cells[i].input_prompt_number == nbb_cell_id) {\n",
       "                        if (nbb_cells[i].get_text() == nbb_unformatted_code) {\n",
       "                             nbb_cells[i].set_text(nbb_formatted_code);\n",
       "                        }\n",
       "                        break;\n",
       "                    }\n",
       "                }\n",
       "            }, 500);\n",
       "            "
      ],
      "text/plain": [
       "<IPython.core.display.Javascript object>"
      ]
     },
     "metadata": {},
     "output_type": "display_data"
    }
   ],
   "source": [
    "def results_env_reg(data, disp=\"weak disposability\"):\n",
    "    solve = data_input_env_reg(data, disp=disp)\n",
    "    status = pd.DataFrame.from_dict(solve[0], orient=\"index\", columns=[\"status\"])\n",
    "    efficiency = pd.DataFrame.from_dict(\n",
    "        solve[1], orient=\"index\", columns=[\"efficiency\"]\n",
    "    )\n",
    "    weight = pd.DataFrame.from_dict(solve[2], orient=\"index\")\n",
    "    results = pd.concat([status, efficiency, weight], axis=1)\n",
    "    return results.round(decimals=4)"
   ]
  },
  {
   "cell_type": "code",
   "execution_count": 18,
   "metadata": {},
   "outputs": [
    {
     "data": {
      "application/javascript": [
       "\n",
       "            setTimeout(function() {\n",
       "                var nbb_cell_id = 18;\n",
       "                var nbb_unformatted_code = \"input_col = [\\\"Capacity (kW)\\\", \\\"Energy (kcal)\\\"]\\noutput_col = [\\\"Electricity (MWh)\\\"]\\nbad_output_col = [\\\"total CO2 (t)\\\"]\";\n",
       "                var nbb_formatted_code = \"input_col = [\\\"Capacity (kW)\\\", \\\"Energy (kcal)\\\"]\\noutput_col = [\\\"Electricity (MWh)\\\"]\\nbad_output_col = [\\\"total CO2 (t)\\\"]\";\n",
       "                var nbb_cells = Jupyter.notebook.get_cells();\n",
       "                for (var i = 0; i < nbb_cells.length; ++i) {\n",
       "                    if (nbb_cells[i].input_prompt_number == nbb_cell_id) {\n",
       "                        if (nbb_cells[i].get_text() == nbb_unformatted_code) {\n",
       "                             nbb_cells[i].set_text(nbb_formatted_code);\n",
       "                        }\n",
       "                        break;\n",
       "                    }\n",
       "                }\n",
       "            }, 500);\n",
       "            "
      ],
      "text/plain": [
       "<IPython.core.display.Javascript object>"
      ]
     },
     "metadata": {},
     "output_type": "display_data"
    }
   ],
   "source": [
    "input_col = [\"Capacity (kW)\", \"Energy (kcal)\"]\n",
    "output_col = [\"Electricity (MWh)\"]\n",
    "bad_output_col = [\"total CO2 (t)\"]"
   ]
  },
  {
   "cell_type": "code",
   "execution_count": 19,
   "metadata": {},
   "outputs": [
    {
     "data": {
      "application/javascript": [
       "\n",
       "            setTimeout(function() {\n",
       "                var nbb_cell_id = 19;\n",
       "                var nbb_unformatted_code = \"env_reg_ls = []\\nfor i in range(len(sheet_name_ls)):\\n    data = read_data(sheet_name_ls[i])\\n    env_reg = results_env_reg(data).loc[:, \\\"optimized_y_0\\\"].sum()\\n    env_reg_ls.append(env_reg)\";\n",
       "                var nbb_formatted_code = \"env_reg_ls = []\\nfor i in range(len(sheet_name_ls)):\\n    data = read_data(sheet_name_ls[i])\\n    env_reg = results_env_reg(data).loc[:, \\\"optimized_y_0\\\"].sum()\\n    env_reg_ls.append(env_reg)\";\n",
       "                var nbb_cells = Jupyter.notebook.get_cells();\n",
       "                for (var i = 0; i < nbb_cells.length; ++i) {\n",
       "                    if (nbb_cells[i].input_prompt_number == nbb_cell_id) {\n",
       "                        if (nbb_cells[i].get_text() == nbb_unformatted_code) {\n",
       "                             nbb_cells[i].set_text(nbb_formatted_code);\n",
       "                        }\n",
       "                        break;\n",
       "                    }\n",
       "                }\n",
       "            }, 500);\n",
       "            "
      ],
      "text/plain": [
       "<IPython.core.display.Javascript object>"
      ]
     },
     "metadata": {},
     "output_type": "display_data"
    }
   ],
   "source": [
    "env_reg_ls = []\n",
    "for i in range(len(sheet_name_ls)):\n",
    "    data = read_data(sheet_name_ls[i])\n",
    "    env_reg = results_env_reg(data).loc[:, \"optimized_y_0\"].sum()\n",
    "    env_reg_ls.append(env_reg)"
   ]
  },
  {
   "cell_type": "code",
   "execution_count": 20,
   "metadata": {},
   "outputs": [
    {
     "data": {
      "application/javascript": [
       "\n",
       "            setTimeout(function() {\n",
       "                var nbb_cell_id = 20;\n",
       "                var nbb_unformatted_code = \"no_env_reg_ls = []\\nfor i in range(len(sheet_name_ls)):\\n    data = read_data(sheet_name_ls[i])\\n    no_env_reg = (\\n        results_env_reg(data, disp=\\\"strong disposability\\\").loc[:, \\\"optimized_y_0\\\"].sum()\\n    )\\n    no_env_reg_ls.append(no_env_reg)\";\n",
       "                var nbb_formatted_code = \"no_env_reg_ls = []\\nfor i in range(len(sheet_name_ls)):\\n    data = read_data(sheet_name_ls[i])\\n    no_env_reg = (\\n        results_env_reg(data, disp=\\\"strong disposability\\\").loc[:, \\\"optimized_y_0\\\"].sum()\\n    )\\n    no_env_reg_ls.append(no_env_reg)\";\n",
       "                var nbb_cells = Jupyter.notebook.get_cells();\n",
       "                for (var i = 0; i < nbb_cells.length; ++i) {\n",
       "                    if (nbb_cells[i].input_prompt_number == nbb_cell_id) {\n",
       "                        if (nbb_cells[i].get_text() == nbb_unformatted_code) {\n",
       "                             nbb_cells[i].set_text(nbb_formatted_code);\n",
       "                        }\n",
       "                        break;\n",
       "                    }\n",
       "                }\n",
       "            }, 500);\n",
       "            "
      ],
      "text/plain": [
       "<IPython.core.display.Javascript object>"
      ]
     },
     "metadata": {},
     "output_type": "display_data"
    }
   ],
   "source": [
    "no_env_reg_ls = []\n",
    "for i in range(len(sheet_name_ls)):\n",
    "    data = read_data(sheet_name_ls[i])\n",
    "    no_env_reg = (\n",
    "        results_env_reg(data, disp=\"strong disposability\").loc[:, \"optimized_y_0\"].sum()\n",
    "    )\n",
    "    no_env_reg_ls.append(no_env_reg)"
   ]
  },
  {
   "cell_type": "code",
   "execution_count": 21,
   "metadata": {},
   "outputs": [
    {
     "data": {
      "text/html": [
       "<div>\n",
       "<style scoped>\n",
       "    .dataframe tbody tr th:only-of-type {\n",
       "        vertical-align: middle;\n",
       "    }\n",
       "\n",
       "    .dataframe tbody tr th {\n",
       "        vertical-align: top;\n",
       "    }\n",
       "\n",
       "    .dataframe thead th {\n",
       "        text-align: right;\n",
       "    }\n",
       "</style>\n",
       "<table border=\"1\" class=\"dataframe\">\n",
       "  <thead>\n",
       "    <tr style=\"text-align: right;\">\n",
       "      <th></th>\n",
       "      <th>11</th>\n",
       "      <th>12</th>\n",
       "      <th>13</th>\n",
       "      <th>14</th>\n",
       "      <th>15</th>\n",
       "    </tr>\n",
       "  </thead>\n",
       "  <tbody>\n",
       "    <tr>\n",
       "      <th>base case</th>\n",
       "      <td>201795377.0</td>\n",
       "      <td>199329717.0</td>\n",
       "      <td>201118832.0</td>\n",
       "      <td>203765393.0</td>\n",
       "      <td>204214422.0</td>\n",
       "    </tr>\n",
       "    <tr>\n",
       "      <th>No env reg</th>\n",
       "      <td>211753600.0</td>\n",
       "      <td>220372520.0</td>\n",
       "      <td>209794900.0</td>\n",
       "      <td>225668880.0</td>\n",
       "      <td>224602107.0</td>\n",
       "    </tr>\n",
       "    <tr>\n",
       "      <th>CAC reg</th>\n",
       "      <td>209721134.0</td>\n",
       "      <td>211113000.0</td>\n",
       "      <td>208232280.0</td>\n",
       "      <td>223972860.0</td>\n",
       "      <td>222668017.0</td>\n",
       "    </tr>\n",
       "  </tbody>\n",
       "</table>\n",
       "</div>"
      ],
      "text/plain": [
       "                     11           12           13           14           15\n",
       "base case   201795377.0  199329717.0  201118832.0  203765393.0  204214422.0\n",
       "No env reg  211753600.0  220372520.0  209794900.0  225668880.0  224602107.0\n",
       "CAC reg     209721134.0  211113000.0  208232280.0  223972860.0  222668017.0"
      ]
     },
     "execution_count": 21,
     "metadata": {},
     "output_type": "execute_result"
    },
    {
     "data": {
      "application/javascript": [
       "\n",
       "            setTimeout(function() {\n",
       "                var nbb_cell_id = 21;\n",
       "                var nbb_unformatted_code = \"env_reg_df = pd.DataFrame(\\n    [base_case_ls, no_env_reg_ls, env_reg_ls],\\n    index=[\\\"base case\\\", \\\"No env reg\\\", \\\"CAC reg\\\"],\\n    columns=sheet_name_ls,\\n)\\nenv_reg_df\";\n",
       "                var nbb_formatted_code = \"env_reg_df = pd.DataFrame(\\n    [base_case_ls, no_env_reg_ls, env_reg_ls],\\n    index=[\\\"base case\\\", \\\"No env reg\\\", \\\"CAC reg\\\"],\\n    columns=sheet_name_ls,\\n)\\nenv_reg_df\";\n",
       "                var nbb_cells = Jupyter.notebook.get_cells();\n",
       "                for (var i = 0; i < nbb_cells.length; ++i) {\n",
       "                    if (nbb_cells[i].input_prompt_number == nbb_cell_id) {\n",
       "                        if (nbb_cells[i].get_text() == nbb_unformatted_code) {\n",
       "                             nbb_cells[i].set_text(nbb_formatted_code);\n",
       "                        }\n",
       "                        break;\n",
       "                    }\n",
       "                }\n",
       "            }, 500);\n",
       "            "
      ],
      "text/plain": [
       "<IPython.core.display.Javascript object>"
      ]
     },
     "metadata": {},
     "output_type": "display_data"
    }
   ],
   "source": [
    "env_reg_df = pd.DataFrame(\n",
    "    [base_case_ls, no_env_reg_ls, env_reg_ls],\n",
    "    index=[\"base case\", \"No env reg\", \"CAC reg\"],\n",
    "    columns=sheet_name_ls,\n",
    ")\n",
    "env_reg_df"
   ]
  },
  {
   "cell_type": "markdown",
   "metadata": {},
   "source": [
    "# Emission Cap and trade"
   ]
  },
  {
   "cell_type": "code",
   "execution_count": 39,
   "metadata": {},
   "outputs": [
    {
     "data": {
      "application/javascript": [
       "\n",
       "            setTimeout(function() {\n",
       "                var nbb_cell_id = 39;\n",
       "                var nbb_unformatted_code = \"class Emission_trading:\\n    def __init__(\\n        self,\\n        inputs,\\n        outputs,\\n        bad_outs,\\n        bad_outs_cap,\\n        returns=\\\"CRS\\\",\\n        in_bound=[0, None],\\n        out_bound=[0, None],\\n        badout_bound=[0, None],\\n        cap_percentage=1,\\n    ):\\n        self.inputs = inputs\\n        self.outputs = outputs\\n        self.bad_outs = bad_outs\\n        self.bad_outs_cap = bad_outs_cap\\n        self.returns = returns\\n\\n        self.J, self.I = self.inputs.shape\\n        _, self.R = self.outputs.shape\\n        _, self.S = self.bad_outs.shape\\n        self._i = range(self.I)  # inputs\\n        self._r = range(self.R)  # outputs\\n        self._s = range(self.S)  # bad_output\\n        self._j = range(self.J)  # DMUs\\n\\n        self._in_bound = in_bound  # input weight restrictions\\n        self._out_bound = out_bound  # output weight restrictions\\n        self._badout_bound = badout_bound  # bad output weight restrictions\\n\\n        self.problem = self._make_problem()\\n\\n    def _make_problem(self):\\n        prob = pulp.LpProblem(\\\"Output_maximization\\\", pulp.LpMaximize)\\n\\n        # variables for optimized output after trade\\n        self.wave_y = pulp.LpVariable.dicts(\\n            \\\"optimized_y\\\", (self._j), lowBound=self._out_bound[0]\\n        )\\n        self.wave_b = pulp.LpVariable.dicts(\\n            \\\"optimized_b\\\", (self._j), lowBound=self._badout_bound[0]\\n        )\\n\\n        # objective function\\n        prob += pulp.lpSum([self.wave_y[j0] for j0 in self._j])\\n\\n        # creating weight variables for each DMU: total weight variables = self._j * self._j\\n        for j0 in self._j:\\n            self.weights = pulp.LpVariable.dicts(\\n                \\\"\\\".join([\\\"weight\\\", str(j0)]), (self._j), lowBound=self._in_bound[0]\\n            )\\n\\n            # constraints on inputs of each DMU\\n            for i in self._i:\\n                prob += (\\n                    pulp.lpSum(\\n                        [\\n                            (self.weights[j0] * self.inputs.values[j0][i])\\n                            for j0 in self._j\\n                        ]\\n                    )\\n                    <= self.inputs.values[j0][i]\\n                )\\n\\n            # constraints on outputs of each DMU\\n            for r in self._r:\\n                prob += (\\n                    pulp.lpSum(\\n                        [\\n                            (self.weights[j0] * self.outputs.values[j0][r])\\n                            for j0 in self._j\\n                        ]\\n                    )\\n                    >= self.wave_y[j0]\\n                )\\n\\n            # constraints on badoutputs of each DMU\\n            for s in self._s:\\n                prob += (\\n                    pulp.lpSum(\\n                        [\\n                            (self.weights[j0] * self.bad_outs.values[j0][s])\\n                            for j0 in self._j\\n                        ]\\n                    )\\n                    == self.wave_b[j0]\\n                )\\n                if self.bad_outs_cap is not None:\\n                    prob += self.wave_b[j0] <= self.bad_outs_cap[j0][s]\\n\\n        # constraints on aggregate bad output\\n        prob += pulp.lpSum([self.wave_b[j0] for j0 in self._j]) <= pulp.lpSum(\\n            [self.bad_outs.values[j0][s] for j0 in self._j]\\n        )\\n\\n        return prob\\n\\n    def solve(self):\\n\\n        sol_variables = {}\\n\\n        problem = self.problem\\n        problem.solve()\\n        sol_status = pulp.LpStatus[problem.status]\\n        for v in problem.variables():\\n            sol_variables[v.name] = v.varValue\\n        return sol_status, sol_variables\";\n",
       "                var nbb_formatted_code = \"class Emission_trading:\\n    def __init__(\\n        self,\\n        inputs,\\n        outputs,\\n        bad_outs,\\n        bad_outs_cap,\\n        returns=\\\"CRS\\\",\\n        in_bound=[0, None],\\n        out_bound=[0, None],\\n        badout_bound=[0, None],\\n        cap_percentage=1,\\n    ):\\n        self.inputs = inputs\\n        self.outputs = outputs\\n        self.bad_outs = bad_outs\\n        self.bad_outs_cap = bad_outs_cap\\n        self.returns = returns\\n\\n        self.J, self.I = self.inputs.shape\\n        _, self.R = self.outputs.shape\\n        _, self.S = self.bad_outs.shape\\n        self._i = range(self.I)  # inputs\\n        self._r = range(self.R)  # outputs\\n        self._s = range(self.S)  # bad_output\\n        self._j = range(self.J)  # DMUs\\n\\n        self._in_bound = in_bound  # input weight restrictions\\n        self._out_bound = out_bound  # output weight restrictions\\n        self._badout_bound = badout_bound  # bad output weight restrictions\\n\\n        self.problem = self._make_problem()\\n\\n    def _make_problem(self):\\n        prob = pulp.LpProblem(\\\"Output_maximization\\\", pulp.LpMaximize)\\n\\n        # variables for optimized output after trade\\n        self.wave_y = pulp.LpVariable.dicts(\\n            \\\"optimized_y\\\", (self._j), lowBound=self._out_bound[0]\\n        )\\n        self.wave_b = pulp.LpVariable.dicts(\\n            \\\"optimized_b\\\", (self._j), lowBound=self._badout_bound[0]\\n        )\\n\\n        # objective function\\n        prob += pulp.lpSum([self.wave_y[j0] for j0 in self._j])\\n\\n        # creating weight variables for each DMU: total weight variables = self._j * self._j\\n        for j0 in self._j:\\n            self.weights = pulp.LpVariable.dicts(\\n                \\\"\\\".join([\\\"weight\\\", str(j0)]), (self._j), lowBound=self._in_bound[0]\\n            )\\n\\n            # constraints on inputs of each DMU\\n            for i in self._i:\\n                prob += (\\n                    pulp.lpSum(\\n                        [\\n                            (self.weights[j0] * self.inputs.values[j0][i])\\n                            for j0 in self._j\\n                        ]\\n                    )\\n                    <= self.inputs.values[j0][i]\\n                )\\n\\n            # constraints on outputs of each DMU\\n            for r in self._r:\\n                prob += (\\n                    pulp.lpSum(\\n                        [\\n                            (self.weights[j0] * self.outputs.values[j0][r])\\n                            for j0 in self._j\\n                        ]\\n                    )\\n                    >= self.wave_y[j0]\\n                )\\n\\n            # constraints on badoutputs of each DMU\\n            for s in self._s:\\n                prob += (\\n                    pulp.lpSum(\\n                        [\\n                            (self.weights[j0] * self.bad_outs.values[j0][s])\\n                            for j0 in self._j\\n                        ]\\n                    )\\n                    == self.wave_b[j0]\\n                )\\n                if self.bad_outs_cap is not None:\\n                    prob += self.wave_b[j0] <= self.bad_outs_cap[j0][s]\\n\\n        # constraints on aggregate bad output\\n        prob += pulp.lpSum([self.wave_b[j0] for j0 in self._j]) <= pulp.lpSum(\\n            [self.bad_outs.values[j0][s] for j0 in self._j]\\n        )\\n\\n        return prob\\n\\n    def solve(self):\\n\\n        sol_variables = {}\\n\\n        problem = self.problem\\n        problem.solve()\\n        sol_status = pulp.LpStatus[problem.status]\\n        for v in problem.variables():\\n            sol_variables[v.name] = v.varValue\\n        return sol_status, sol_variables\";\n",
       "                var nbb_cells = Jupyter.notebook.get_cells();\n",
       "                for (var i = 0; i < nbb_cells.length; ++i) {\n",
       "                    if (nbb_cells[i].input_prompt_number == nbb_cell_id) {\n",
       "                        if (nbb_cells[i].get_text() == nbb_unformatted_code) {\n",
       "                             nbb_cells[i].set_text(nbb_formatted_code);\n",
       "                        }\n",
       "                        break;\n",
       "                    }\n",
       "                }\n",
       "            }, 500);\n",
       "            "
      ],
      "text/plain": [
       "<IPython.core.display.Javascript object>"
      ]
     },
     "metadata": {},
     "output_type": "display_data"
    }
   ],
   "source": [
    "class Emission_trading:\n",
    "    def __init__(\n",
    "        self,\n",
    "        inputs,\n",
    "        outputs,\n",
    "        bad_outs,\n",
    "        bad_outs_cap,\n",
    "        returns=\"CRS\",\n",
    "        in_bound=[0, None],\n",
    "        out_bound=[0, None],\n",
    "        badout_bound=[0, None],\n",
    "        cap_percentage=1,\n",
    "    ):\n",
    "        self.inputs = inputs\n",
    "        self.outputs = outputs\n",
    "        self.bad_outs = bad_outs\n",
    "        self.bad_outs_cap = bad_outs_cap\n",
    "        self.returns = returns\n",
    "\n",
    "        self.J, self.I = self.inputs.shape\n",
    "        _, self.R = self.outputs.shape\n",
    "        _, self.S = self.bad_outs.shape\n",
    "        self._i = range(self.I)  # inputs\n",
    "        self._r = range(self.R)  # outputs\n",
    "        self._s = range(self.S)  # bad_output\n",
    "        self._j = range(self.J)  # DMUs\n",
    "\n",
    "        self._in_bound = in_bound  # input weight restrictions\n",
    "        self._out_bound = out_bound  # output weight restrictions\n",
    "        self._badout_bound = badout_bound  # bad output weight restrictions\n",
    "\n",
    "        self.problem = self._make_problem()\n",
    "\n",
    "    def _make_problem(self):\n",
    "        prob = pulp.LpProblem(\"Output_maximization\", pulp.LpMaximize)\n",
    "\n",
    "        # variables for optimized output after trade\n",
    "        self.wave_y = pulp.LpVariable.dicts(\n",
    "            \"optimized_y\", (self._j), lowBound=self._out_bound[0]\n",
    "        )\n",
    "        self.wave_b = pulp.LpVariable.dicts(\n",
    "            \"optimized_b\", (self._j), lowBound=self._badout_bound[0]\n",
    "        )\n",
    "\n",
    "        # objective function\n",
    "        prob += pulp.lpSum([self.wave_y[j0] for j0 in self._j])\n",
    "\n",
    "        # creating weight variables for each DMU: total weight variables = self._j * self._j\n",
    "        for j0 in self._j:\n",
    "            self.weights = pulp.LpVariable.dicts(\n",
    "                \"\".join([\"weight\", str(j0)]), (self._j), lowBound=self._in_bound[0]\n",
    "            )\n",
    "\n",
    "            # constraints on inputs of each DMU\n",
    "            for i in self._i:\n",
    "                prob += (\n",
    "                    pulp.lpSum(\n",
    "                        [\n",
    "                            (self.weights[j0] * self.inputs.values[j0][i])\n",
    "                            for j0 in self._j\n",
    "                        ]\n",
    "                    )\n",
    "                    <= self.inputs.values[j0][i]\n",
    "                )\n",
    "\n",
    "            # constraints on outputs of each DMU\n",
    "            for r in self._r:\n",
    "                prob += (\n",
    "                    pulp.lpSum(\n",
    "                        [\n",
    "                            (self.weights[j0] * self.outputs.values[j0][r])\n",
    "                            for j0 in self._j\n",
    "                        ]\n",
    "                    )\n",
    "                    >= self.wave_y[j0]\n",
    "                )\n",
    "\n",
    "            # constraints on badoutputs of each DMU\n",
    "            for s in self._s:\n",
    "                prob += (\n",
    "                    pulp.lpSum(\n",
    "                        [\n",
    "                            (self.weights[j0] * self.bad_outs.values[j0][s])\n",
    "                            for j0 in self._j\n",
    "                        ]\n",
    "                    )\n",
    "                    == self.wave_b[j0]\n",
    "                )\n",
    "                if self.bad_outs_cap is not None:\n",
    "                    prob += self.wave_b[j0] <= self.bad_outs_cap[j0][s]\n",
    "\n",
    "        # constraints on aggregate bad output\n",
    "        prob += pulp.lpSum([self.wave_b[j0] for j0 in self._j]) <= pulp.lpSum(\n",
    "            [self.bad_outs.values[j0][s] for j0 in self._j]\n",
    "        )\n",
    "\n",
    "        return prob\n",
    "\n",
    "    def solve(self):\n",
    "\n",
    "        sol_variables = {}\n",
    "\n",
    "        problem = self.problem\n",
    "        problem.solve()\n",
    "        sol_status = pulp.LpStatus[problem.status]\n",
    "        for v in problem.variables():\n",
    "            sol_variables[v.name] = v.varValue\n",
    "        return sol_status, sol_variables"
   ]
  },
  {
   "cell_type": "code",
   "execution_count": 35,
   "metadata": {},
   "outputs": [
    {
     "data": {
      "application/javascript": [
       "\n",
       "            setTimeout(function() {\n",
       "                var nbb_cell_id = 35;\n",
       "                var nbb_unformatted_code = \"def data_input(data, data_lag, b_cap=True, cap_percentage=1):\\n    X = data.loc[:, input_col]\\n    y = data.loc[:, output_col]\\n    b = data.loc[:, bad_output_col]\\n    if b_cap is True:\\n        b_cap = np.array(data_lag.loc[:, bad_output_col] * cap_percentage)\\n    else:\\n        b_cap = None\\n    solve = Emission_trading(\\n        X,\\n        y,\\n        b,\\n        bad_outs_cap=b_cap,\\n    ).solve()\\n    return solve\";\n",
       "                var nbb_formatted_code = \"def data_input(data, data_lag, b_cap=True, cap_percentage=1):\\n    X = data.loc[:, input_col]\\n    y = data.loc[:, output_col]\\n    b = data.loc[:, bad_output_col]\\n    if b_cap is True:\\n        b_cap = np.array(data_lag.loc[:, bad_output_col] * cap_percentage)\\n    else:\\n        b_cap = None\\n    solve = Emission_trading(\\n        X,\\n        y,\\n        b,\\n        bad_outs_cap=b_cap,\\n    ).solve()\\n    return solve\";\n",
       "                var nbb_cells = Jupyter.notebook.get_cells();\n",
       "                for (var i = 0; i < nbb_cells.length; ++i) {\n",
       "                    if (nbb_cells[i].input_prompt_number == nbb_cell_id) {\n",
       "                        if (nbb_cells[i].get_text() == nbb_unformatted_code) {\n",
       "                             nbb_cells[i].set_text(nbb_formatted_code);\n",
       "                        }\n",
       "                        break;\n",
       "                    }\n",
       "                }\n",
       "            }, 500);\n",
       "            "
      ],
      "text/plain": [
       "<IPython.core.display.Javascript object>"
      ]
     },
     "metadata": {},
     "output_type": "display_data"
    }
   ],
   "source": [
    "def data_input(data, data_lag, b_cap=True, cap_percentage=1):\n",
    "    X = data.loc[:, input_col]\n",
    "    y = data.loc[:, output_col]\n",
    "    b = data.loc[:, bad_output_col]\n",
    "    if b_cap is True:\n",
    "        b_cap = np.array(data_lag.loc[:, bad_output_col] * cap_percentage)\n",
    "    else:\n",
    "        b_cap = None\n",
    "    solve = Emission_trading(\n",
    "        X,\n",
    "        y,\n",
    "        b,\n",
    "        bad_outs_cap=b_cap,\n",
    "    ).solve()\n",
    "    return solve"
   ]
  },
  {
   "cell_type": "code",
   "execution_count": 36,
   "metadata": {},
   "outputs": [
    {
     "data": {
      "application/javascript": [
       "\n",
       "            setTimeout(function() {\n",
       "                var nbb_cell_id = 36;\n",
       "                var nbb_unformatted_code = \"def results(data, data_lag, b_cap=True, cap_percentage=1):\\n    solve = data_input(data, data_lag, b_cap=b_cap, cap_percentage=cap_percentage)\\n    optimized_b = {i: j for i, j in solve[1].items() if \\\"optimized_b\\\" in i}\\n    optimized_b_df = pd.DataFrame.from_dict({\\\"CO2 emissions\\\": optimized_b})\\n    optimized_y = {i: j for i, j in solve[1].items() if \\\"optimized_y\\\" in i}\\n    optimized_y_df = pd.DataFrame.from_dict({\\\"electricity_gen\\\": optimized_y})\\n    return optimized_b_df, optimized_y_df\";\n",
       "                var nbb_formatted_code = \"def results(data, data_lag, b_cap=True, cap_percentage=1):\\n    solve = data_input(data, data_lag, b_cap=b_cap, cap_percentage=cap_percentage)\\n    optimized_b = {i: j for i, j in solve[1].items() if \\\"optimized_b\\\" in i}\\n    optimized_b_df = pd.DataFrame.from_dict({\\\"CO2 emissions\\\": optimized_b})\\n    optimized_y = {i: j for i, j in solve[1].items() if \\\"optimized_y\\\" in i}\\n    optimized_y_df = pd.DataFrame.from_dict({\\\"electricity_gen\\\": optimized_y})\\n    return optimized_b_df, optimized_y_df\";\n",
       "                var nbb_cells = Jupyter.notebook.get_cells();\n",
       "                for (var i = 0; i < nbb_cells.length; ++i) {\n",
       "                    if (nbb_cells[i].input_prompt_number == nbb_cell_id) {\n",
       "                        if (nbb_cells[i].get_text() == nbb_unformatted_code) {\n",
       "                             nbb_cells[i].set_text(nbb_formatted_code);\n",
       "                        }\n",
       "                        break;\n",
       "                    }\n",
       "                }\n",
       "            }, 500);\n",
       "            "
      ],
      "text/plain": [
       "<IPython.core.display.Javascript object>"
      ]
     },
     "metadata": {},
     "output_type": "display_data"
    }
   ],
   "source": [
    "def results(data, data_lag, b_cap=True, cap_percentage=1):\n",
    "    solve = data_input(data, data_lag, b_cap=b_cap, cap_percentage=cap_percentage)\n",
    "    optimized_b = {i: j for i, j in solve[1].items() if \"optimized_b\" in i}\n",
    "    optimized_b_df = pd.DataFrame.from_dict({\"CO2 emissions\": optimized_b})\n",
    "    optimized_y = {i: j for i, j in solve[1].items() if \"optimized_y\" in i}\n",
    "    optimized_y_df = pd.DataFrame.from_dict({\"electricity_gen\": optimized_y})\n",
    "    return optimized_b_df, optimized_y_df"
   ]
  },
  {
   "cell_type": "code",
   "execution_count": 37,
   "metadata": {},
   "outputs": [
    {
     "data": {
      "application/javascript": [
       "\n",
       "            setTimeout(function() {\n",
       "                var nbb_cell_id = 37;\n",
       "                var nbb_unformatted_code = \"def main(b_cap=True):\\n    results_dict = {}\\n    for sheet_name in sheet_name_ls:\\n        if sheet_name != \\\"15\\\":\\n            data = read_data(sheet_name)\\n            data_lag = data\\n            (optimized_b_df, optimized_y_df) = results(data, data_lag, b_cap=b_cap)\\n            year_results_dict = {}\\n            year_results_dict.update(dict(optimized_b_df.sum()))\\n            year_results_dict.update(dict(optimized_y_df.sum()))\\n            results_dict[sheet_name] = year_results_dict\\n        else:\\n            data = read_data(sheet_name)\\n            data_lag = read_data(\\\"15\\\")\\n            (optimized_b_df, optimized_y_df) = results(data, data_lag, b_cap=b_cap)\\n            year_results_dict = {}\\n            year_results_dict.update(dict(optimized_b_df.sum()))\\n            year_results_dict.update(dict(optimized_y_df.sum()))\\n            results_dict[sheet_name] = year_results_dict\\n    results_df = pd.DataFrame.from_dict(results_dict)\\n    return results_df\";\n",
       "                var nbb_formatted_code = \"def main(b_cap=True):\\n    results_dict = {}\\n    for sheet_name in sheet_name_ls:\\n        if sheet_name != \\\"15\\\":\\n            data = read_data(sheet_name)\\n            data_lag = data\\n            (optimized_b_df, optimized_y_df) = results(data, data_lag, b_cap=b_cap)\\n            year_results_dict = {}\\n            year_results_dict.update(dict(optimized_b_df.sum()))\\n            year_results_dict.update(dict(optimized_y_df.sum()))\\n            results_dict[sheet_name] = year_results_dict\\n        else:\\n            data = read_data(sheet_name)\\n            data_lag = read_data(\\\"15\\\")\\n            (optimized_b_df, optimized_y_df) = results(data, data_lag, b_cap=b_cap)\\n            year_results_dict = {}\\n            year_results_dict.update(dict(optimized_b_df.sum()))\\n            year_results_dict.update(dict(optimized_y_df.sum()))\\n            results_dict[sheet_name] = year_results_dict\\n    results_df = pd.DataFrame.from_dict(results_dict)\\n    return results_df\";\n",
       "                var nbb_cells = Jupyter.notebook.get_cells();\n",
       "                for (var i = 0; i < nbb_cells.length; ++i) {\n",
       "                    if (nbb_cells[i].input_prompt_number == nbb_cell_id) {\n",
       "                        if (nbb_cells[i].get_text() == nbb_unformatted_code) {\n",
       "                             nbb_cells[i].set_text(nbb_formatted_code);\n",
       "                        }\n",
       "                        break;\n",
       "                    }\n",
       "                }\n",
       "            }, 500);\n",
       "            "
      ],
      "text/plain": [
       "<IPython.core.display.Javascript object>"
      ]
     },
     "metadata": {},
     "output_type": "display_data"
    }
   ],
   "source": [
    "def main(b_cap=True):\n",
    "    results_dict = {}\n",
    "    for sheet_name in sheet_name_ls:\n",
    "        if sheet_name != \"15\":\n",
    "            data = read_data(sheet_name)\n",
    "            data_lag = data\n",
    "            (optimized_b_df, optimized_y_df) = results(data, data_lag, b_cap=b_cap)\n",
    "            year_results_dict = {}\n",
    "            year_results_dict.update(dict(optimized_b_df.sum()))\n",
    "            year_results_dict.update(dict(optimized_y_df.sum()))\n",
    "            results_dict[sheet_name] = year_results_dict\n",
    "        else:\n",
    "            data = read_data(sheet_name)\n",
    "            data_lag = read_data(\"15\")\n",
    "            (optimized_b_df, optimized_y_df) = results(data, data_lag, b_cap=b_cap)\n",
    "            year_results_dict = {}\n",
    "            year_results_dict.update(dict(optimized_b_df.sum()))\n",
    "            year_results_dict.update(dict(optimized_y_df.sum()))\n",
    "            results_dict[sheet_name] = year_results_dict\n",
    "    results_df = pd.DataFrame.from_dict(results_dict)\n",
    "    return results_df"
   ]
  },
  {
   "cell_type": "code",
   "execution_count": 40,
   "metadata": {},
   "outputs": [
    {
     "data": {
      "application/javascript": [
       "\n",
       "            setTimeout(function() {\n",
       "                var nbb_cell_id = 40;\n",
       "                var nbb_unformatted_code = \"results_df_cap = main()\";\n",
       "                var nbb_formatted_code = \"results_df_cap = main()\";\n",
       "                var nbb_cells = Jupyter.notebook.get_cells();\n",
       "                for (var i = 0; i < nbb_cells.length; ++i) {\n",
       "                    if (nbb_cells[i].input_prompt_number == nbb_cell_id) {\n",
       "                        if (nbb_cells[i].get_text() == nbb_unformatted_code) {\n",
       "                             nbb_cells[i].set_text(nbb_formatted_code);\n",
       "                        }\n",
       "                        break;\n",
       "                    }\n",
       "                }\n",
       "            }, 500);\n",
       "            "
      ],
      "text/plain": [
       "<IPython.core.display.Javascript object>"
      ]
     },
     "metadata": {},
     "output_type": "display_data"
    }
   ],
   "source": [
    "results_df_cap = main()"
   ]
  },
  {
   "cell_type": "code",
   "execution_count": 27,
   "metadata": {},
   "outputs": [
    {
     "data": {
      "application/javascript": [
       "\n",
       "            setTimeout(function() {\n",
       "                var nbb_cell_id = 27;\n",
       "                var nbb_unformatted_code = \"results_df_no_cap = main(b_cap=False)\";\n",
       "                var nbb_formatted_code = \"results_df_no_cap = main(b_cap=False)\";\n",
       "                var nbb_cells = Jupyter.notebook.get_cells();\n",
       "                for (var i = 0; i < nbb_cells.length; ++i) {\n",
       "                    if (nbb_cells[i].input_prompt_number == nbb_cell_id) {\n",
       "                        if (nbb_cells[i].get_text() == nbb_unformatted_code) {\n",
       "                             nbb_cells[i].set_text(nbb_formatted_code);\n",
       "                        }\n",
       "                        break;\n",
       "                    }\n",
       "                }\n",
       "            }, 500);\n",
       "            "
      ],
      "text/plain": [
       "<IPython.core.display.Javascript object>"
      ]
     },
     "metadata": {},
     "output_type": "display_data"
    }
   ],
   "source": [
    "results_df_no_cap = main(b_cap=False)"
   ]
  },
  {
   "cell_type": "code",
   "execution_count": 28,
   "metadata": {},
   "outputs": [
    {
     "data": {
      "text/html": [
       "<div>\n",
       "<style scoped>\n",
       "    .dataframe tbody tr th:only-of-type {\n",
       "        vertical-align: middle;\n",
       "    }\n",
       "\n",
       "    .dataframe tbody tr th {\n",
       "        vertical-align: top;\n",
       "    }\n",
       "\n",
       "    .dataframe thead th {\n",
       "        text-align: right;\n",
       "    }\n",
       "</style>\n",
       "<table border=\"1\" class=\"dataframe\">\n",
       "  <thead>\n",
       "    <tr style=\"text-align: right;\">\n",
       "      <th></th>\n",
       "      <th>11</th>\n",
       "      <th>12</th>\n",
       "      <th>13</th>\n",
       "      <th>14</th>\n",
       "      <th>15</th>\n",
       "    </tr>\n",
       "  </thead>\n",
       "  <tbody>\n",
       "    <tr>\n",
       "      <th>CO2 emissions</th>\n",
       "      <td>0.991475</td>\n",
       "      <td>0.984726</td>\n",
       "      <td>0.998072</td>\n",
       "      <td>0.992904</td>\n",
       "      <td>0.997411</td>\n",
       "    </tr>\n",
       "    <tr>\n",
       "      <th>electricity_gen</th>\n",
       "      <td>0.997744</td>\n",
       "      <td>0.988261</td>\n",
       "      <td>0.998454</td>\n",
       "      <td>0.997807</td>\n",
       "      <td>0.999521</td>\n",
       "    </tr>\n",
       "  </tbody>\n",
       "</table>\n",
       "</div>"
      ],
      "text/plain": [
       "                       11        12        13        14        15\n",
       "CO2 emissions    0.991475  0.984726  0.998072  0.992904  0.997411\n",
       "electricity_gen  0.997744  0.988261  0.998454  0.997807  0.999521"
      ]
     },
     "execution_count": 28,
     "metadata": {},
     "output_type": "execute_result"
    },
    {
     "data": {
      "application/javascript": [
       "\n",
       "            setTimeout(function() {\n",
       "                var nbb_cell_id = 28;\n",
       "                var nbb_unformatted_code = \"results_df_cap / results_df_no_cap\";\n",
       "                var nbb_formatted_code = \"results_df_cap / results_df_no_cap\";\n",
       "                var nbb_cells = Jupyter.notebook.get_cells();\n",
       "                for (var i = 0; i < nbb_cells.length; ++i) {\n",
       "                    if (nbb_cells[i].input_prompt_number == nbb_cell_id) {\n",
       "                        if (nbb_cells[i].get_text() == nbb_unformatted_code) {\n",
       "                             nbb_cells[i].set_text(nbb_formatted_code);\n",
       "                        }\n",
       "                        break;\n",
       "                    }\n",
       "                }\n",
       "            }, 500);\n",
       "            "
      ],
      "text/plain": [
       "<IPython.core.display.Javascript object>"
      ]
     },
     "metadata": {},
     "output_type": "display_data"
    }
   ],
   "source": [
    "results_df_cap / results_df_no_cap"
   ]
  },
  {
   "cell_type": "code",
   "execution_count": 79,
   "metadata": {},
   "outputs": [
    {
     "data": {
      "text/html": [
       "<div>\n",
       "<style scoped>\n",
       "    .dataframe tbody tr th:only-of-type {\n",
       "        vertical-align: middle;\n",
       "    }\n",
       "\n",
       "    .dataframe tbody tr th {\n",
       "        vertical-align: top;\n",
       "    }\n",
       "\n",
       "    .dataframe thead th {\n",
       "        text-align: right;\n",
       "    }\n",
       "</style>\n",
       "<table border=\"1\" class=\"dataframe\">\n",
       "  <thead>\n",
       "    <tr style=\"text-align: right;\">\n",
       "      <th></th>\n",
       "      <th>11</th>\n",
       "      <th>12</th>\n",
       "      <th>13</th>\n",
       "      <th>14</th>\n",
       "      <th>15</th>\n",
       "    </tr>\n",
       "  </thead>\n",
       "  <tbody>\n",
       "    <tr>\n",
       "      <th>CO2 emissions</th>\n",
       "      <td>150182112.0</td>\n",
       "      <td>146138633.0</td>\n",
       "      <td>145894504.0</td>\n",
       "      <td>143039310.0</td>\n",
       "      <td>143346973.0</td>\n",
       "    </tr>\n",
       "    <tr>\n",
       "      <th>electricity_gen</th>\n",
       "      <td>211275810.0</td>\n",
       "      <td>211948280.0</td>\n",
       "      <td>209470580.0</td>\n",
       "      <td>224973790.0</td>\n",
       "      <td>224494427.0</td>\n",
       "    </tr>\n",
       "  </tbody>\n",
       "</table>\n",
       "</div>"
      ],
      "text/plain": [
       "                          11           12           13           14  \\\n",
       "CO2 emissions    150182112.0  146138633.0  145894504.0  143039310.0   \n",
       "electricity_gen  211275810.0  211948280.0  209470580.0  224973790.0   \n",
       "\n",
       "                          15  \n",
       "CO2 emissions    143346973.0  \n",
       "electricity_gen  224494427.0  "
      ]
     },
     "execution_count": 79,
     "metadata": {},
     "output_type": "execute_result"
    },
    {
     "data": {
      "application/javascript": [
       "\n",
       "            setTimeout(function() {\n",
       "                var nbb_cell_id = 79;\n",
       "                var nbb_unformatted_code = \"results_df_cap\";\n",
       "                var nbb_formatted_code = \"results_df_cap\";\n",
       "                var nbb_cells = Jupyter.notebook.get_cells();\n",
       "                for (var i = 0; i < nbb_cells.length; ++i) {\n",
       "                    if (nbb_cells[i].input_prompt_number == nbb_cell_id) {\n",
       "                        if (nbb_cells[i].get_text() == nbb_unformatted_code) {\n",
       "                             nbb_cells[i].set_text(nbb_formatted_code);\n",
       "                        }\n",
       "                        break;\n",
       "                    }\n",
       "                }\n",
       "            }, 500);\n",
       "            "
      ],
      "text/plain": [
       "<IPython.core.display.Javascript object>"
      ]
     },
     "metadata": {},
     "output_type": "display_data"
    }
   ],
   "source": [
    "results_df_cap"
   ]
  },
  {
   "cell_type": "code",
   "execution_count": 80,
   "metadata": {},
   "outputs": [
    {
     "data": {
      "text/html": [
       "<div>\n",
       "<style scoped>\n",
       "    .dataframe tbody tr th:only-of-type {\n",
       "        vertical-align: middle;\n",
       "    }\n",
       "\n",
       "    .dataframe tbody tr th {\n",
       "        vertical-align: top;\n",
       "    }\n",
       "\n",
       "    .dataframe thead th {\n",
       "        text-align: right;\n",
       "    }\n",
       "</style>\n",
       "<table border=\"1\" class=\"dataframe\">\n",
       "  <thead>\n",
       "    <tr style=\"text-align: right;\">\n",
       "      <th></th>\n",
       "      <th>11</th>\n",
       "      <th>12</th>\n",
       "      <th>13</th>\n",
       "      <th>14</th>\n",
       "      <th>15</th>\n",
       "    </tr>\n",
       "  </thead>\n",
       "  <tbody>\n",
       "    <tr>\n",
       "      <th>CO2 emissions</th>\n",
       "      <td>151473382.0</td>\n",
       "      <td>148405365.0</td>\n",
       "      <td>146176324.0</td>\n",
       "      <td>144061524.0</td>\n",
       "      <td>143719073.0</td>\n",
       "    </tr>\n",
       "    <tr>\n",
       "      <th>electricity_gen</th>\n",
       "      <td>211753600.0</td>\n",
       "      <td>214465960.0</td>\n",
       "      <td>209794900.0</td>\n",
       "      <td>225468210.0</td>\n",
       "      <td>224602107.0</td>\n",
       "    </tr>\n",
       "  </tbody>\n",
       "</table>\n",
       "</div>"
      ],
      "text/plain": [
       "                          11           12           13           14  \\\n",
       "CO2 emissions    151473382.0  148405365.0  146176324.0  144061524.0   \n",
       "electricity_gen  211753600.0  214465960.0  209794900.0  225468210.0   \n",
       "\n",
       "                          15  \n",
       "CO2 emissions    143719073.0  \n",
       "electricity_gen  224602107.0  "
      ]
     },
     "execution_count": 80,
     "metadata": {},
     "output_type": "execute_result"
    },
    {
     "data": {
      "application/javascript": [
       "\n",
       "            setTimeout(function() {\n",
       "                var nbb_cell_id = 80;\n",
       "                var nbb_unformatted_code = \"results_df_no_cap\";\n",
       "                var nbb_formatted_code = \"results_df_no_cap\";\n",
       "                var nbb_cells = Jupyter.notebook.get_cells();\n",
       "                for (var i = 0; i < nbb_cells.length; ++i) {\n",
       "                    if (nbb_cells[i].input_prompt_number == nbb_cell_id) {\n",
       "                        if (nbb_cells[i].get_text() == nbb_unformatted_code) {\n",
       "                             nbb_cells[i].set_text(nbb_formatted_code);\n",
       "                        }\n",
       "                        break;\n",
       "                    }\n",
       "                }\n",
       "            }, 500);\n",
       "            "
      ],
      "text/plain": [
       "<IPython.core.display.Javascript object>"
      ]
     },
     "metadata": {},
     "output_type": "display_data"
    }
   ],
   "source": [
    "results_df_no_cap"
   ]
  },
  {
   "cell_type": "markdown",
   "metadata": {},
   "source": [
    "# Results analysis"
   ]
  },
  {
   "cell_type": "markdown",
   "metadata": {},
   "source": [
    "## Aggregated results"
   ]
  },
  {
   "cell_type": "code",
   "execution_count": 81,
   "metadata": {},
   "outputs": [
    {
     "data": {
      "text/html": [
       "<div>\n",
       "<style scoped>\n",
       "    .dataframe tbody tr th:only-of-type {\n",
       "        vertical-align: middle;\n",
       "    }\n",
       "\n",
       "    .dataframe tbody tr th {\n",
       "        vertical-align: top;\n",
       "    }\n",
       "\n",
       "    .dataframe thead th {\n",
       "        text-align: right;\n",
       "    }\n",
       "</style>\n",
       "<table border=\"1\" class=\"dataframe\">\n",
       "  <thead>\n",
       "    <tr style=\"text-align: right;\">\n",
       "      <th></th>\n",
       "      <th>11</th>\n",
       "      <th>12</th>\n",
       "      <th>13</th>\n",
       "      <th>14</th>\n",
       "      <th>15</th>\n",
       "    </tr>\n",
       "  </thead>\n",
       "  <tbody>\n",
       "    <tr>\n",
       "      <th>base case</th>\n",
       "      <td>201795377.0</td>\n",
       "      <td>199329717.0</td>\n",
       "      <td>201118832.0</td>\n",
       "      <td>203765393.0</td>\n",
       "      <td>204214422.0</td>\n",
       "    </tr>\n",
       "    <tr>\n",
       "      <th>No env reg</th>\n",
       "      <td>211753600.0</td>\n",
       "      <td>220372520.0</td>\n",
       "      <td>209794900.0</td>\n",
       "      <td>225668880.0</td>\n",
       "      <td>224602107.0</td>\n",
       "    </tr>\n",
       "    <tr>\n",
       "      <th>CAC reg</th>\n",
       "      <td>209721134.0</td>\n",
       "      <td>211113000.0</td>\n",
       "      <td>208232280.0</td>\n",
       "      <td>223972860.0</td>\n",
       "      <td>222668017.0</td>\n",
       "    </tr>\n",
       "    <tr>\n",
       "      <th>electricity_gen</th>\n",
       "      <td>211753600.0</td>\n",
       "      <td>214465960.0</td>\n",
       "      <td>209794900.0</td>\n",
       "      <td>225468210.0</td>\n",
       "      <td>224602107.0</td>\n",
       "    </tr>\n",
       "    <tr>\n",
       "      <th>electricity_gen</th>\n",
       "      <td>211275810.0</td>\n",
       "      <td>211948280.0</td>\n",
       "      <td>209470580.0</td>\n",
       "      <td>224973790.0</td>\n",
       "      <td>224494427.0</td>\n",
       "    </tr>\n",
       "  </tbody>\n",
       "</table>\n",
       "</div>"
      ],
      "text/plain": [
       "                          11           12           13           14  \\\n",
       "base case        201795377.0  199329717.0  201118832.0  203765393.0   \n",
       "No env reg       211753600.0  220372520.0  209794900.0  225668880.0   \n",
       "CAC reg          209721134.0  211113000.0  208232280.0  223972860.0   \n",
       "electricity_gen  211753600.0  214465960.0  209794900.0  225468210.0   \n",
       "electricity_gen  211275810.0  211948280.0  209470580.0  224973790.0   \n",
       "\n",
       "                          15  \n",
       "base case        204214422.0  \n",
       "No env reg       224602107.0  \n",
       "CAC reg          222668017.0  \n",
       "electricity_gen  224602107.0  \n",
       "electricity_gen  224494427.0  "
      ]
     },
     "execution_count": 81,
     "metadata": {},
     "output_type": "execute_result"
    },
    {
     "data": {
      "application/javascript": [
       "\n",
       "            setTimeout(function() {\n",
       "                var nbb_cell_id = 81;\n",
       "                var nbb_unformatted_code = \"elec_gen_df = pd.concat(\\n    [\\n        env_reg_df,\\n        results_df_no_cap.loc[[\\\"electricity_gen\\\"]],\\n        results_df_cap.loc[[\\\"electricity_gen\\\"]],\\n    ]\\n)\\nelec_gen_df\";\n",
       "                var nbb_formatted_code = \"elec_gen_df = pd.concat(\\n    [\\n        env_reg_df,\\n        results_df_no_cap.loc[[\\\"electricity_gen\\\"]],\\n        results_df_cap.loc[[\\\"electricity_gen\\\"]],\\n    ]\\n)\\nelec_gen_df\";\n",
       "                var nbb_cells = Jupyter.notebook.get_cells();\n",
       "                for (var i = 0; i < nbb_cells.length; ++i) {\n",
       "                    if (nbb_cells[i].input_prompt_number == nbb_cell_id) {\n",
       "                        if (nbb_cells[i].get_text() == nbb_unformatted_code) {\n",
       "                             nbb_cells[i].set_text(nbb_formatted_code);\n",
       "                        }\n",
       "                        break;\n",
       "                    }\n",
       "                }\n",
       "            }, 500);\n",
       "            "
      ],
      "text/plain": [
       "<IPython.core.display.Javascript object>"
      ]
     },
     "metadata": {},
     "output_type": "display_data"
    }
   ],
   "source": [
    "elec_gen_df = pd.concat(\n",
    "    [\n",
    "        env_reg_df,\n",
    "        results_df_no_cap.loc[[\"electricity_gen\"]],\n",
    "        results_df_cap.loc[[\"electricity_gen\"]],\n",
    "    ]\n",
    ")\n",
    "elec_gen_df"
   ]
  },
  {
   "cell_type": "code",
   "execution_count": 82,
   "metadata": {},
   "outputs": [
    {
     "data": {
      "image/png": "[encoded data removed]",
      "text/plain": [
       "<Figure size 720x360 with 1 Axes>"
      ]
     },
     "metadata": {
      "needs_background": "light"
     },
     "output_type": "display_data"
    },
    {
     "data": {
      "application/javascript": [
       "\n",
       "            setTimeout(function() {\n",
       "                var nbb_cell_id = 82;\n",
       "                var nbb_unformatted_code = \"fig, ax = plt.subplots(figsize=(10, 5))\\nplt.ylim([1.5 * 10 ** 8, 2.5 * 10 ** 8])\\n\\nelec_gen_df.T.plot(\\n    kind=\\\"bar\\\",\\n    colormap=\\\"Set3_r\\\",\\n    legend=None,\\n    ax=ax,\\n)\\nloc, labels = plt.xticks()\\nplt.xticks(\\n    loc,\\n    labels=[str(i) for i in range(2011, 2016)],\\n    fontname=\\\"Calibri\\\",\\n    fontsize=20,\\n    rotation=0,\\n)\\nplt.yticks(\\n    np.arange(1.6 * 10 ** 8, 2.5 * 10 ** 8, 0.2 * 10 ** 8),\\n    fontname=\\\"Calibri\\\",\\n    fontsize=18,\\n)\\nfor side in ax.spines.keys():  # 'top', 'bottom', 'left', 'right'\\n    ax.spines[side].set_linewidth(3)\\nplt.savefig(\\n    r\\\"D:\\\\tencent_files\\\\chrome_Download\\\\Research\\\\DEA\\\\Emission_alloc&trade\\\\Figure\\\\Total_output.png\\\",\\n    transparent=True,\\n)\";\n",
       "                var nbb_formatted_code = \"fig, ax = plt.subplots(figsize=(10, 5))\\nplt.ylim([1.5 * 10 ** 8, 2.5 * 10 ** 8])\\n\\nelec_gen_df.T.plot(\\n    kind=\\\"bar\\\",\\n    colormap=\\\"Set3_r\\\",\\n    legend=None,\\n    ax=ax,\\n)\\nloc, labels = plt.xticks()\\nplt.xticks(\\n    loc,\\n    labels=[str(i) for i in range(2011, 2016)],\\n    fontname=\\\"Calibri\\\",\\n    fontsize=20,\\n    rotation=0,\\n)\\nplt.yticks(\\n    np.arange(1.6 * 10 ** 8, 2.5 * 10 ** 8, 0.2 * 10 ** 8),\\n    fontname=\\\"Calibri\\\",\\n    fontsize=18,\\n)\\nfor side in ax.spines.keys():  # 'top', 'bottom', 'left', 'right'\\n    ax.spines[side].set_linewidth(3)\\nplt.savefig(\\n    r\\\"D:\\\\tencent_files\\\\chrome_Download\\\\Research\\\\DEA\\\\Emission_alloc&trade\\\\Figure\\\\Total_output.png\\\",\\n    transparent=True,\\n)\";\n",
       "                var nbb_cells = Jupyter.notebook.get_cells();\n",
       "                for (var i = 0; i < nbb_cells.length; ++i) {\n",
       "                    if (nbb_cells[i].input_prompt_number == nbb_cell_id) {\n",
       "                        if (nbb_cells[i].get_text() == nbb_unformatted_code) {\n",
       "                             nbb_cells[i].set_text(nbb_formatted_code);\n",
       "                        }\n",
       "                        break;\n",
       "                    }\n",
       "                }\n",
       "            }, 500);\n",
       "            "
      ],
      "text/plain": [
       "<IPython.core.display.Javascript object>"
      ]
     },
     "metadata": {},
     "output_type": "display_data"
    }
   ],
   "source": [
    "fig, ax = plt.subplots(figsize=(10, 5))\n",
    "plt.ylim([1.5 * 10 ** 8, 2.5 * 10 ** 8])\n",
    "\n",
    "elec_gen_df.T.plot(\n",
    "    kind=\"bar\",\n",
    "    colormap=\"Set3_r\",\n",
    "    legend=None,\n",
    "    ax=ax,\n",
    ")\n",
    "loc, labels = plt.xticks()\n",
    "plt.xticks(\n",
    "    loc,\n",
    "    labels=[str(i) for i in range(2011, 2016)],\n",
    "    fontname=\"Calibri\",\n",
    "    fontsize=20,\n",
    "    rotation=0,\n",
    ")\n",
    "plt.yticks(\n",
    "    np.arange(1.6 * 10 ** 8, 2.5 * 10 ** 8, 0.2 * 10 ** 8),\n",
    "    fontname=\"Calibri\",\n",
    "    fontsize=18,\n",
    ")\n",
    "for side in ax.spines.keys():  # 'top', 'bottom', 'left', 'right'\n",
    "    ax.spines[side].set_linewidth(3)\n",
    "plt.savefig(\n",
    "    r\"D:\\tencent_files\\chrome_Download\\Research\\DEA\\Emission_alloc&trade\\Figure\\Total_output.png\",\n",
    "    transparent=True,\n",
    ")"
   ]
  },
  {
   "cell_type": "code",
   "execution_count": 83,
   "metadata": {},
   "outputs": [
    {
     "data": {
      "text/plain": [
       "11    0.047027\n",
       "12    0.095487\n",
       "13    0.041355\n",
       "14    0.097060\n",
       "15    0.090772\n",
       "dtype: float64"
      ]
     },
     "execution_count": 83,
     "metadata": {},
     "output_type": "execute_result"
    },
    {
     "data": {
      "application/javascript": [
       "\n",
       "            setTimeout(function() {\n",
       "                var nbb_cell_id = 83;\n",
       "                var nbb_unformatted_code = \"((elec_gen_df.iloc[1, :] - elec_gen_df.iloc[0, :]) / elec_gen_df.iloc[1, :])\";\n",
       "                var nbb_formatted_code = \"((elec_gen_df.iloc[1, :] - elec_gen_df.iloc[0, :]) / elec_gen_df.iloc[1, :])\";\n",
       "                var nbb_cells = Jupyter.notebook.get_cells();\n",
       "                for (var i = 0; i < nbb_cells.length; ++i) {\n",
       "                    if (nbb_cells[i].input_prompt_number == nbb_cell_id) {\n",
       "                        if (nbb_cells[i].get_text() == nbb_unformatted_code) {\n",
       "                             nbb_cells[i].set_text(nbb_formatted_code);\n",
       "                        }\n",
       "                        break;\n",
       "                    }\n",
       "                }\n",
       "            }, 500);\n",
       "            "
      ],
      "text/plain": [
       "<IPython.core.display.Javascript object>"
      ]
     },
     "metadata": {},
     "output_type": "display_data"
    }
   ],
   "source": [
    "((elec_gen_df.iloc[1, :] - elec_gen_df.iloc[0, :]) / elec_gen_df.iloc[1, :])"
   ]
  },
  {
   "cell_type": "code",
   "execution_count": 84,
   "metadata": {},
   "outputs": [
    {
     "data": {
      "text/plain": [
       "0.07434051459687045"
      ]
     },
     "execution_count": 84,
     "metadata": {},
     "output_type": "execute_result"
    },
    {
     "data": {
      "application/javascript": [
       "\n",
       "            setTimeout(function() {\n",
       "                var nbb_cell_id = 84;\n",
       "                var nbb_unformatted_code = \"((elec_gen_df.iloc[1, :] - elec_gen_df.iloc[0, :]) / elec_gen_df.iloc[1, :]).mean()\";\n",
       "                var nbb_formatted_code = \"((elec_gen_df.iloc[1, :] - elec_gen_df.iloc[0, :]) / elec_gen_df.iloc[1, :]).mean()\";\n",
       "                var nbb_cells = Jupyter.notebook.get_cells();\n",
       "                for (var i = 0; i < nbb_cells.length; ++i) {\n",
       "                    if (nbb_cells[i].input_prompt_number == nbb_cell_id) {\n",
       "                        if (nbb_cells[i].get_text() == nbb_unformatted_code) {\n",
       "                             nbb_cells[i].set_text(nbb_formatted_code);\n",
       "                        }\n",
       "                        break;\n",
       "                    }\n",
       "                }\n",
       "            }, 500);\n",
       "            "
      ],
      "text/plain": [
       "<IPython.core.display.Javascript object>"
      ]
     },
     "metadata": {},
     "output_type": "display_data"
    }
   ],
   "source": [
    "((elec_gen_df.iloc[1, :] - elec_gen_df.iloc[0, :]) / elec_gen_df.iloc[1, :]).mean()"
   ]
  },
  {
   "cell_type": "code",
   "execution_count": 85,
   "metadata": {},
   "outputs": [
    {
     "data": {
      "text/plain": [
       "11   -0.009691\n",
       "12   -0.043860\n",
       "13   -0.007504\n",
       "14   -0.007572\n",
       "15   -0.008686\n",
       "dtype: float64"
      ]
     },
     "execution_count": 85,
     "metadata": {},
     "output_type": "execute_result"
    },
    {
     "data": {
      "application/javascript": [
       "\n",
       "            setTimeout(function() {\n",
       "                var nbb_cell_id = 85;\n",
       "                var nbb_unformatted_code = \"((elec_gen_df.iloc[2, :] - elec_gen_df.iloc[1, :]) / elec_gen_df.iloc[2, :])\";\n",
       "                var nbb_formatted_code = \"((elec_gen_df.iloc[2, :] - elec_gen_df.iloc[1, :]) / elec_gen_df.iloc[2, :])\";\n",
       "                var nbb_cells = Jupyter.notebook.get_cells();\n",
       "                for (var i = 0; i < nbb_cells.length; ++i) {\n",
       "                    if (nbb_cells[i].input_prompt_number == nbb_cell_id) {\n",
       "                        if (nbb_cells[i].get_text() == nbb_unformatted_code) {\n",
       "                             nbb_cells[i].set_text(nbb_formatted_code);\n",
       "                        }\n",
       "                        break;\n",
       "                    }\n",
       "                }\n",
       "            }, 500);\n",
       "            "
      ],
      "text/plain": [
       "<IPython.core.display.Javascript object>"
      ]
     },
     "metadata": {},
     "output_type": "display_data"
    }
   ],
   "source": [
    "((elec_gen_df.iloc[2, :] - elec_gen_df.iloc[1, :]) / elec_gen_df.iloc[2, :])"
   ]
  },
  {
   "cell_type": "code",
   "execution_count": 86,
   "metadata": {},
   "outputs": [
    {
     "data": {
      "text/plain": [
       "11    0.009598\n",
       "12    0.015634\n",
       "13    0.007448\n",
       "14    0.006632\n",
       "15    0.008611\n",
       "dtype: float64"
      ]
     },
     "execution_count": 86,
     "metadata": {},
     "output_type": "execute_result"
    },
    {
     "data": {
      "application/javascript": [
       "\n",
       "            setTimeout(function() {\n",
       "                var nbb_cell_id = 86;\n",
       "                var nbb_unformatted_code = \"((elec_gen_df.iloc[3, :] - elec_gen_df.iloc[2, :]) / elec_gen_df.iloc[3, :])\";\n",
       "                var nbb_formatted_code = \"((elec_gen_df.iloc[3, :] - elec_gen_df.iloc[2, :]) / elec_gen_df.iloc[3, :])\";\n",
       "                var nbb_cells = Jupyter.notebook.get_cells();\n",
       "                for (var i = 0; i < nbb_cells.length; ++i) {\n",
       "                    if (nbb_cells[i].input_prompt_number == nbb_cell_id) {\n",
       "                        if (nbb_cells[i].get_text() == nbb_unformatted_code) {\n",
       "                             nbb_cells[i].set_text(nbb_formatted_code);\n",
       "                        }\n",
       "                        break;\n",
       "                    }\n",
       "                }\n",
       "            }, 500);\n",
       "            "
      ],
      "text/plain": [
       "<IPython.core.display.Javascript object>"
      ]
     },
     "metadata": {},
     "output_type": "display_data"
    }
   ],
   "source": [
    "((elec_gen_df.iloc[3, :] - elec_gen_df.iloc[2, :]) / elec_gen_df.iloc[3, :])"
   ]
  },
  {
   "cell_type": "code",
   "execution_count": 87,
   "metadata": {},
   "outputs": [
    {
     "data": {
      "text/plain": [
       "0.009904839055423352"
      ]
     },
     "execution_count": 87,
     "metadata": {},
     "output_type": "execute_result"
    },
    {
     "data": {
      "application/javascript": [
       "\n",
       "            setTimeout(function() {\n",
       "                var nbb_cell_id = 87;\n",
       "                var nbb_unformatted_code = \"((elec_gen_df.iloc[3, :] - elec_gen_df.iloc[2, :]) / elec_gen_df.iloc[3, :]).iloc[\\n    1:4\\n].mean()\";\n",
       "                var nbb_formatted_code = \"((elec_gen_df.iloc[3, :] - elec_gen_df.iloc[2, :]) / elec_gen_df.iloc[3, :]).iloc[\\n    1:4\\n].mean()\";\n",
       "                var nbb_cells = Jupyter.notebook.get_cells();\n",
       "                for (var i = 0; i < nbb_cells.length; ++i) {\n",
       "                    if (nbb_cells[i].input_prompt_number == nbb_cell_id) {\n",
       "                        if (nbb_cells[i].get_text() == nbb_unformatted_code) {\n",
       "                             nbb_cells[i].set_text(nbb_formatted_code);\n",
       "                        }\n",
       "                        break;\n",
       "                    }\n",
       "                }\n",
       "            }, 500);\n",
       "            "
      ],
      "text/plain": [
       "<IPython.core.display.Javascript object>"
      ]
     },
     "metadata": {},
     "output_type": "display_data"
    }
   ],
   "source": [
    "((elec_gen_df.iloc[3, :] - elec_gen_df.iloc[2, :]) / elec_gen_df.iloc[3, :]).iloc[\n",
    "    1:4\n",
    "].mean()"
   ]
  },
  {
   "cell_type": "code",
   "execution_count": 88,
   "metadata": {},
   "outputs": [
    {
     "data": {
      "text/plain": [
       "11    0.002256\n",
       "12    0.011739\n",
       "13    0.001546\n",
       "14    0.002193\n",
       "15    0.000479\n",
       "Name: electricity_gen, dtype: float64"
      ]
     },
     "execution_count": 88,
     "metadata": {},
     "output_type": "execute_result"
    },
    {
     "data": {
      "application/javascript": [
       "\n",
       "            setTimeout(function() {\n",
       "                var nbb_cell_id = 88;\n",
       "                var nbb_unformatted_code = \"((elec_gen_df.iloc[3, :] - elec_gen_df.iloc[4, :]) / elec_gen_df.iloc[3, :])\";\n",
       "                var nbb_formatted_code = \"((elec_gen_df.iloc[3, :] - elec_gen_df.iloc[4, :]) / elec_gen_df.iloc[3, :])\";\n",
       "                var nbb_cells = Jupyter.notebook.get_cells();\n",
       "                for (var i = 0; i < nbb_cells.length; ++i) {\n",
       "                    if (nbb_cells[i].input_prompt_number == nbb_cell_id) {\n",
       "                        if (nbb_cells[i].get_text() == nbb_unformatted_code) {\n",
       "                             nbb_cells[i].set_text(nbb_formatted_code);\n",
       "                        }\n",
       "                        break;\n",
       "                    }\n",
       "                }\n",
       "            }, 500);\n",
       "            "
      ],
      "text/plain": [
       "<IPython.core.display.Javascript object>"
      ]
     },
     "metadata": {},
     "output_type": "display_data"
    }
   ],
   "source": [
    "((elec_gen_df.iloc[3, :] - elec_gen_df.iloc[4, :]) / elec_gen_df.iloc[3, :])"
   ]
  },
  {
   "cell_type": "code",
   "execution_count": 89,
   "metadata": {},
   "outputs": [
    {
     "data": {
      "text/plain": [
       "0.05567476177427111"
      ]
     },
     "execution_count": 89,
     "metadata": {},
     "output_type": "execute_result"
    },
    {
     "data": {
      "application/javascript": [
       "\n",
       "            setTimeout(function() {\n",
       "                var nbb_cell_id = 89;\n",
       "                var nbb_unformatted_code = \"((elec_gen_df.iloc[3, :] - elec_gen_df.iloc[4, :]) / elec_gen_df.iloc[3, :]).iloc[\\n    -1\\n] / ((elec_gen_df.iloc[3, :] - elec_gen_df.iloc[2, :]) / elec_gen_df.iloc[3, :]).iloc[\\n    -1\\n]\";\n",
       "                var nbb_formatted_code = \"((elec_gen_df.iloc[3, :] - elec_gen_df.iloc[4, :]) / elec_gen_df.iloc[3, :]).iloc[\\n    -1\\n] / ((elec_gen_df.iloc[3, :] - elec_gen_df.iloc[2, :]) / elec_gen_df.iloc[3, :]).iloc[\\n    -1\\n]\";\n",
       "                var nbb_cells = Jupyter.notebook.get_cells();\n",
       "                for (var i = 0; i < nbb_cells.length; ++i) {\n",
       "                    if (nbb_cells[i].input_prompt_number == nbb_cell_id) {\n",
       "                        if (nbb_cells[i].get_text() == nbb_unformatted_code) {\n",
       "                             nbb_cells[i].set_text(nbb_formatted_code);\n",
       "                        }\n",
       "                        break;\n",
       "                    }\n",
       "                }\n",
       "            }, 500);\n",
       "            "
      ],
      "text/plain": [
       "<IPython.core.display.Javascript object>"
      ]
     },
     "metadata": {},
     "output_type": "display_data"
    }
   ],
   "source": [
    "((elec_gen_df.iloc[3, :] - elec_gen_df.iloc[4, :]) / elec_gen_df.iloc[3, :]).iloc[\n",
    "    -1\n",
    "] / ((elec_gen_df.iloc[3, :] - elec_gen_df.iloc[2, :]) / elec_gen_df.iloc[3, :]).iloc[\n",
    "    -1\n",
    "]"
   ]
  },
  {
   "cell_type": "markdown",
   "metadata": {},
   "source": [
    "## Cap and Cost"
   ]
  },
  {
   "cell_type": "code",
   "execution_count": 90,
   "metadata": {},
   "outputs": [
    {
     "data": {
      "application/javascript": [
       "\n",
       "            setTimeout(function() {\n",
       "                var nbb_cell_id = 90;\n",
       "                var nbb_unformatted_code = \"def cap_trade_2015(b_cap=True, cap_percentage=1):\\n    results_dict = {}\\n    data = read_data(\\\"15\\\")\\n    data_lag = read_data(\\\"15\\\")\\n    (optimized_b_df, optimized_y_df) = results(\\n        data, data_lag, b_cap=b_cap, cap_percentage=cap_percentage\\n    )\\n    year_results_dict = {}\\n    year_results_dict.update(dict(optimized_b_df.sum()))\\n    year_results_dict.update(dict(optimized_y_df.sum()))\\n    results_dict[cap_percentage] = year_results_dict\\n    results_df = pd.DataFrame.from_dict(results_dict)\\n    return results_df\";\n",
       "                var nbb_formatted_code = \"def cap_trade_2015(b_cap=True, cap_percentage=1):\\n    results_dict = {}\\n    data = read_data(\\\"15\\\")\\n    data_lag = read_data(\\\"15\\\")\\n    (optimized_b_df, optimized_y_df) = results(\\n        data, data_lag, b_cap=b_cap, cap_percentage=cap_percentage\\n    )\\n    year_results_dict = {}\\n    year_results_dict.update(dict(optimized_b_df.sum()))\\n    year_results_dict.update(dict(optimized_y_df.sum()))\\n    results_dict[cap_percentage] = year_results_dict\\n    results_df = pd.DataFrame.from_dict(results_dict)\\n    return results_df\";\n",
       "                var nbb_cells = Jupyter.notebook.get_cells();\n",
       "                for (var i = 0; i < nbb_cells.length; ++i) {\n",
       "                    if (nbb_cells[i].input_prompt_number == nbb_cell_id) {\n",
       "                        if (nbb_cells[i].get_text() == nbb_unformatted_code) {\n",
       "                             nbb_cells[i].set_text(nbb_formatted_code);\n",
       "                        }\n",
       "                        break;\n",
       "                    }\n",
       "                }\n",
       "            }, 500);\n",
       "            "
      ],
      "text/plain": [
       "<IPython.core.display.Javascript object>"
      ]
     },
     "metadata": {},
     "output_type": "display_data"
    }
   ],
   "source": [
    "def cap_trade_2015(b_cap=True, cap_percentage=1):\n",
    "    results_dict = {}\n",
    "    data = read_data(\"15\")\n",
    "    data_lag = read_data(\"15\")\n",
    "    (optimized_b_df, optimized_y_df) = results(\n",
    "        data, data_lag, b_cap=b_cap, cap_percentage=cap_percentage\n",
    "    )\n",
    "    year_results_dict = {}\n",
    "    year_results_dict.update(dict(optimized_b_df.sum()))\n",
    "    year_results_dict.update(dict(optimized_y_df.sum()))\n",
    "    results_dict[cap_percentage] = year_results_dict\n",
    "    results_df = pd.DataFrame.from_dict(results_dict)\n",
    "    return results_df"
   ]
  },
  {
   "cell_type": "code",
   "execution_count": 91,
   "metadata": {},
   "outputs": [
    {
     "data": {
      "application/javascript": [
       "\n",
       "            setTimeout(function() {\n",
       "                var nbb_cell_id = 91;\n",
       "                var nbb_unformatted_code = \"cap_percent = np.linspace(0.01, 1, num=100, endpoint=True)\\ncap_results_ls = []\\nfor percent in cap_percent:\\n    cap_results = cap_trade_2015(cap_percentage=percent)\\n    cap_results_ls.append(cap_results)\";\n",
       "                var nbb_formatted_code = \"cap_percent = np.linspace(0.01, 1, num=100, endpoint=True)\\ncap_results_ls = []\\nfor percent in cap_percent:\\n    cap_results = cap_trade_2015(cap_percentage=percent)\\n    cap_results_ls.append(cap_results)\";\n",
       "                var nbb_cells = Jupyter.notebook.get_cells();\n",
       "                for (var i = 0; i < nbb_cells.length; ++i) {\n",
       "                    if (nbb_cells[i].input_prompt_number == nbb_cell_id) {\n",
       "                        if (nbb_cells[i].get_text() == nbb_unformatted_code) {\n",
       "                             nbb_cells[i].set_text(nbb_formatted_code);\n",
       "                        }\n",
       "                        break;\n",
       "                    }\n",
       "                }\n",
       "            }, 500);\n",
       "            "
      ],
      "text/plain": [
       "<IPython.core.display.Javascript object>"
      ]
     },
     "metadata": {},
     "output_type": "display_data"
    }
   ],
   "source": [
    "cap_percent = np.linspace(0.01, 1, num=100, endpoint=True)\n",
    "cap_results_ls = []\n",
    "for percent in cap_percent:\n",
    "    cap_results = cap_trade_2015(cap_percentage=percent)\n",
    "    cap_results_ls.append(cap_results)"
   ]
  },
  {
   "cell_type": "code",
   "execution_count": 92,
   "metadata": {},
   "outputs": [
    {
     "data": {
      "text/html": [
       "<div>\n",
       "<style scoped>\n",
       "    .dataframe tbody tr th:only-of-type {\n",
       "        vertical-align: middle;\n",
       "    }\n",
       "\n",
       "    .dataframe tbody tr th {\n",
       "        vertical-align: top;\n",
       "    }\n",
       "\n",
       "    .dataframe thead th {\n",
       "        text-align: right;\n",
       "    }\n",
       "</style>\n",
       "<table border=\"1\" class=\"dataframe\">\n",
       "  <thead>\n",
       "    <tr style=\"text-align: right;\">\n",
       "      <th></th>\n",
       "      <th>0.45</th>\n",
       "      <th>0.46</th>\n",
       "      <th>0.47</th>\n",
       "      <th>0.48</th>\n",
       "      <th>0.49</th>\n",
       "      <th>0.50</th>\n",
       "      <th>0.51</th>\n",
       "      <th>0.52</th>\n",
       "      <th>0.53</th>\n",
       "      <th>0.54</th>\n",
       "      <th>0.55</th>\n",
       "    </tr>\n",
       "  </thead>\n",
       "  <tbody>\n",
       "    <tr>\n",
       "      <th>CO2 emissions</th>\n",
       "      <td>65653274.0</td>\n",
       "      <td>67112225.0</td>\n",
       "      <td>68571186.0</td>\n",
       "      <td>70030129.0</td>\n",
       "      <td>71489093.0</td>\n",
       "      <td>72948075.0</td>\n",
       "      <td>74407068.0</td>\n",
       "      <td>75865970.0</td>\n",
       "      <td>77324941.0</td>\n",
       "      <td>78783904.0</td>\n",
       "      <td>80242925.0</td>\n",
       "    </tr>\n",
       "    <tr>\n",
       "      <th>electricity_gen</th>\n",
       "      <td>198882908.0</td>\n",
       "      <td>199840789.0</td>\n",
       "      <td>200607171.0</td>\n",
       "      <td>201212125.0</td>\n",
       "      <td>201745768.0</td>\n",
       "      <td>202239328.0</td>\n",
       "      <td>202723758.0</td>\n",
       "      <td>203208088.0</td>\n",
       "      <td>203692579.0</td>\n",
       "      <td>204176989.0</td>\n",
       "      <td>204661369.0</td>\n",
       "    </tr>\n",
       "  </tbody>\n",
       "</table>\n",
       "</div>"
      ],
      "text/plain": [
       "                        0.45         0.46         0.47         0.48  \\\n",
       "CO2 emissions     65653274.0   67112225.0   68571186.0   70030129.0   \n",
       "electricity_gen  198882908.0  199840789.0  200607171.0  201212125.0   \n",
       "\n",
       "                        0.49         0.50         0.51         0.52  \\\n",
       "CO2 emissions     71489093.0   72948075.0   74407068.0   75865970.0   \n",
       "electricity_gen  201745768.0  202239328.0  202723758.0  203208088.0   \n",
       "\n",
       "                        0.53         0.54         0.55  \n",
       "CO2 emissions     77324941.0   78783904.0   80242925.0  \n",
       "electricity_gen  203692579.0  204176989.0  204661369.0  "
      ]
     },
     "execution_count": 92,
     "metadata": {},
     "output_type": "execute_result"
    },
    {
     "data": {
      "application/javascript": [
       "\n",
       "            setTimeout(function() {\n",
       "                var nbb_cell_id = 92;\n",
       "                var nbb_unformatted_code = \"cap_results_df = pd.concat(cap_results_ls, axis=1)\\ncap_results_df.loc[\\n    :, 0.45:0.55\\n]  # intercept between current elec-gen and optimized elec_gen is 0.54\";\n",
       "                var nbb_formatted_code = \"cap_results_df = pd.concat(cap_results_ls, axis=1)\\ncap_results_df.loc[\\n    :, 0.45:0.55\\n]  # intercept between current elec-gen and optimized elec_gen is 0.54\";\n",
       "                var nbb_cells = Jupyter.notebook.get_cells();\n",
       "                for (var i = 0; i < nbb_cells.length; ++i) {\n",
       "                    if (nbb_cells[i].input_prompt_number == nbb_cell_id) {\n",
       "                        if (nbb_cells[i].get_text() == nbb_unformatted_code) {\n",
       "                             nbb_cells[i].set_text(nbb_formatted_code);\n",
       "                        }\n",
       "                        break;\n",
       "                    }\n",
       "                }\n",
       "            }, 500);\n",
       "            "
      ],
      "text/plain": [
       "<IPython.core.display.Javascript object>"
      ]
     },
     "metadata": {},
     "output_type": "display_data"
    }
   ],
   "source": [
    "cap_results_df = pd.concat(cap_results_ls, axis=1)\n",
    "cap_results_df.loc[\n",
    "    :, 0.45:0.55\n",
    "]  # intercept between current elec-gen and optimized elec_gen is 0.54"
   ]
  },
  {
   "cell_type": "code",
   "execution_count": 93,
   "metadata": {},
   "outputs": [
    {
     "data": {
      "application/javascript": [
       "\n",
       "            setTimeout(function() {\n",
       "                var nbb_cell_id = 93;\n",
       "                var nbb_unformatted_code = \"cap_results_df.to_excel(os.path.join(data_path, \\\"abatement.xlsx\\\"))\";\n",
       "                var nbb_formatted_code = \"cap_results_df.to_excel(os.path.join(data_path, \\\"abatement.xlsx\\\"))\";\n",
       "                var nbb_cells = Jupyter.notebook.get_cells();\n",
       "                for (var i = 0; i < nbb_cells.length; ++i) {\n",
       "                    if (nbb_cells[i].input_prompt_number == nbb_cell_id) {\n",
       "                        if (nbb_cells[i].get_text() == nbb_unformatted_code) {\n",
       "                             nbb_cells[i].set_text(nbb_formatted_code);\n",
       "                        }\n",
       "                        break;\n",
       "                    }\n",
       "                }\n",
       "            }, 500);\n",
       "            "
      ],
      "text/plain": [
       "<IPython.core.display.Javascript object>"
      ]
     },
     "metadata": {},
     "output_type": "display_data"
    }
   ],
   "source": [
    "cap_results_df.to_excel(os.path.join(data_path, \"abatement.xlsx\"))"
   ]
  },
  {
   "cell_type": "code",
   "execution_count": 94,
   "metadata": {},
   "outputs": [
    {
     "data": {
      "image/png": "[encoded data removed]",
      "text/plain": [
       "<Figure size 576x360 with 1 Axes>"
      ]
     },
     "metadata": {
      "needs_background": "light"
     },
     "output_type": "display_data"
    },
    {
     "data": {
      "application/javascript": [
       "\n",
       "            setTimeout(function() {\n",
       "                var nbb_cell_id = 94;\n",
       "                var nbb_unformatted_code = \"# plot changes of emission and electricity generation with emission cap\\ncolormap = ListedColormap([[0.92, 0.70, 0.46, 1], [0.59, 0.79, 0.76, 1]])\\nfig, ax = plt.subplots(figsize=(8, 5))\\ncap_results_df.T.plot(fontsize=16, colormap=colormap, linewidth=3, legend=None, ax=ax)\\n\\n# plot base emission and electricity generation\\nx_coordinate = [0, 1]\\ny_elec_gen = [base_case_ls[-1], base_case_ls[-1]]\\ny_emission = [base_case_emission_ls[-1], base_case_emission_ls[-1]]\\n\\nplt.plot(\\n    x_coordinate,\\n    y_elec_gen,\\n    linestyle=\\\"dotted\\\",\\n    linewidth=2.5,\\n    color=(0.59, 0.79, 0.76),\\n)\\nplt.plot(\\n    x_coordinate,\\n    y_emission,\\n    linestyle=\\\"dotted\\\",\\n    linewidth=2.5,\\n    color=(0.92, 0.70, 0.46),\\n)\\n\\n# graph aesthetic\\nfor side in ax.spines.keys():  # 'top', 'bottom', 'left', 'right'\\n    ax.spines[side].set_linewidth(3)\\n\\nplt.savefig(\\n    r\\\"D:\\\\tencent_files\\\\chrome_Download\\\\Research\\\\DEA\\\\Emission_alloc&trade\\\\Figure\\\\cap_change.png\\\",\\n    transparent=True,\\n)\";\n",
       "                var nbb_formatted_code = \"# plot changes of emission and electricity generation with emission cap\\ncolormap = ListedColormap([[0.92, 0.70, 0.46, 1], [0.59, 0.79, 0.76, 1]])\\nfig, ax = plt.subplots(figsize=(8, 5))\\ncap_results_df.T.plot(fontsize=16, colormap=colormap, linewidth=3, legend=None, ax=ax)\\n\\n# plot base emission and electricity generation\\nx_coordinate = [0, 1]\\ny_elec_gen = [base_case_ls[-1], base_case_ls[-1]]\\ny_emission = [base_case_emission_ls[-1], base_case_emission_ls[-1]]\\n\\nplt.plot(\\n    x_coordinate,\\n    y_elec_gen,\\n    linestyle=\\\"dotted\\\",\\n    linewidth=2.5,\\n    color=(0.59, 0.79, 0.76),\\n)\\nplt.plot(\\n    x_coordinate,\\n    y_emission,\\n    linestyle=\\\"dotted\\\",\\n    linewidth=2.5,\\n    color=(0.92, 0.70, 0.46),\\n)\\n\\n# graph aesthetic\\nfor side in ax.spines.keys():  # 'top', 'bottom', 'left', 'right'\\n    ax.spines[side].set_linewidth(3)\\n\\nplt.savefig(\\n    r\\\"D:\\\\tencent_files\\\\chrome_Download\\\\Research\\\\DEA\\\\Emission_alloc&trade\\\\Figure\\\\cap_change.png\\\",\\n    transparent=True,\\n)\";\n",
       "                var nbb_cells = Jupyter.notebook.get_cells();\n",
       "                for (var i = 0; i < nbb_cells.length; ++i) {\n",
       "                    if (nbb_cells[i].input_prompt_number == nbb_cell_id) {\n",
       "                        if (nbb_cells[i].get_text() == nbb_unformatted_code) {\n",
       "                             nbb_cells[i].set_text(nbb_formatted_code);\n",
       "                        }\n",
       "                        break;\n",
       "                    }\n",
       "                }\n",
       "            }, 500);\n",
       "            "
      ],
      "text/plain": [
       "<IPython.core.display.Javascript object>"
      ]
     },
     "metadata": {},
     "output_type": "display_data"
    }
   ],
   "source": [
    "# plot changes of emission and electricity generation with emission cap\n",
    "colormap = ListedColormap([[0.92, 0.70, 0.46, 1], [0.59, 0.79, 0.76, 1]])\n",
    "fig, ax = plt.subplots(figsize=(8, 5))\n",
    "cap_results_df.T.plot(fontsize=16, colormap=colormap, linewidth=3, legend=None, ax=ax)\n",
    "\n",
    "# plot base emission and electricity generation\n",
    "x_coordinate = [0, 1]\n",
    "y_elec_gen = [base_case_ls[-1], base_case_ls[-1]]\n",
    "y_emission = [base_case_emission_ls[-1], base_case_emission_ls[-1]]\n",
    "\n",
    "plt.plot(\n",
    "    x_coordinate,\n",
    "    y_elec_gen,\n",
    "    linestyle=\"dotted\",\n",
    "    linewidth=2.5,\n",
    "    color=(0.59, 0.79, 0.76),\n",
    ")\n",
    "plt.plot(\n",
    "    x_coordinate,\n",
    "    y_emission,\n",
    "    linestyle=\"dotted\",\n",
    "    linewidth=2.5,\n",
    "    color=(0.92, 0.70, 0.46),\n",
    ")\n",
    "\n",
    "# graph aesthetic\n",
    "for side in ax.spines.keys():  # 'top', 'bottom', 'left', 'right'\n",
    "    ax.spines[side].set_linewidth(3)\n",
    "\n",
    "plt.savefig(\n",
    "    r\"D:\\tencent_files\\chrome_Download\\Research\\DEA\\Emission_alloc&trade\\Figure\\cap_change.png\",\n",
    "    transparent=True,\n",
    ")"
   ]
  },
  {
   "cell_type": "markdown",
   "metadata": {},
   "source": [
    "## Distributional effect"
   ]
  },
  {
   "cell_type": "code",
   "execution_count": 95,
   "metadata": {},
   "outputs": [
    {
     "data": {
      "application/javascript": [
       "\n",
       "            setTimeout(function() {\n",
       "                var nbb_cell_id = 95;\n",
       "                var nbb_unformatted_code = \"def distribution_gain(sheet_name, b_cap=True, cap_percentage=1):\\n    data = read_data(sheet_name)\\n    data_lag = data\\n    reg_y_df = results_env_reg(data, disp=\\\"weak disposability\\\").loc[:, \\\"optimized_y_0\\\"]\\n    ET_b_df, ET_y_df = results(\\n        data, data_lag, b_cap=b_cap, cap_percentage=cap_percentage\\n    )\\n    diff = ET_y_df.reset_index().iloc[:, 1] - reg_y_df\\n    return diff\";\n",
       "                var nbb_formatted_code = \"def distribution_gain(sheet_name, b_cap=True, cap_percentage=1):\\n    data = read_data(sheet_name)\\n    data_lag = data\\n    reg_y_df = results_env_reg(data, disp=\\\"weak disposability\\\").loc[:, \\\"optimized_y_0\\\"]\\n    ET_b_df, ET_y_df = results(\\n        data, data_lag, b_cap=b_cap, cap_percentage=cap_percentage\\n    )\\n    diff = ET_y_df.reset_index().iloc[:, 1] - reg_y_df\\n    return diff\";\n",
       "                var nbb_cells = Jupyter.notebook.get_cells();\n",
       "                for (var i = 0; i < nbb_cells.length; ++i) {\n",
       "                    if (nbb_cells[i].input_prompt_number == nbb_cell_id) {\n",
       "                        if (nbb_cells[i].get_text() == nbb_unformatted_code) {\n",
       "                             nbb_cells[i].set_text(nbb_formatted_code);\n",
       "                        }\n",
       "                        break;\n",
       "                    }\n",
       "                }\n",
       "            }, 500);\n",
       "            "
      ],
      "text/plain": [
       "<IPython.core.display.Javascript object>"
      ]
     },
     "metadata": {},
     "output_type": "display_data"
    }
   ],
   "source": [
    "def distribution_gain(sheet_name, b_cap=True, cap_percentage=1):\n",
    "    data = read_data(sheet_name)\n",
    "    data_lag = data\n",
    "    reg_y_df = results_env_reg(data, disp=\"weak disposability\").loc[:, \"optimized_y_0\"]\n",
    "    ET_b_df, ET_y_df = results(\n",
    "        data, data_lag, b_cap=b_cap, cap_percentage=cap_percentage\n",
    "    )\n",
    "    diff = ET_y_df.reset_index().iloc[:, 1] - reg_y_df\n",
    "    return diff"
   ]
  },
  {
   "cell_type": "code",
   "execution_count": 96,
   "metadata": {},
   "outputs": [
    {
     "data": {
      "application/javascript": [
       "\n",
       "            setTimeout(function() {\n",
       "                var nbb_cell_id = 96;\n",
       "                var nbb_unformatted_code = \"diff_15 = distribution_gain(\\\"15\\\", b_cap=False)\\ndiff_15_cap_100 = distribution_gain(\\\"15\\\", b_cap=True)\\ndiff_15_cap_75 = distribution_gain(\\\"15\\\", b_cap=True, cap_percentage=0.75)\\ndiff_15_cap_50 = distribution_gain(\\\"15\\\", b_cap=True, cap_percentage=0.5)\\ndiff_15_cap_25 = distribution_gain(\\\"15\\\", b_cap=True, cap_percentage=0.25)\";\n",
       "                var nbb_formatted_code = \"diff_15 = distribution_gain(\\\"15\\\", b_cap=False)\\ndiff_15_cap_100 = distribution_gain(\\\"15\\\", b_cap=True)\\ndiff_15_cap_75 = distribution_gain(\\\"15\\\", b_cap=True, cap_percentage=0.75)\\ndiff_15_cap_50 = distribution_gain(\\\"15\\\", b_cap=True, cap_percentage=0.5)\\ndiff_15_cap_25 = distribution_gain(\\\"15\\\", b_cap=True, cap_percentage=0.25)\";\n",
       "                var nbb_cells = Jupyter.notebook.get_cells();\n",
       "                for (var i = 0; i < nbb_cells.length; ++i) {\n",
       "                    if (nbb_cells[i].input_prompt_number == nbb_cell_id) {\n",
       "                        if (nbb_cells[i].get_text() == nbb_unformatted_code) {\n",
       "                             nbb_cells[i].set_text(nbb_formatted_code);\n",
       "                        }\n",
       "                        break;\n",
       "                    }\n",
       "                }\n",
       "            }, 500);\n",
       "            "
      ],
      "text/plain": [
       "<IPython.core.display.Javascript object>"
      ]
     },
     "metadata": {},
     "output_type": "display_data"
    }
   ],
   "source": [
    "diff_15 = distribution_gain(\"15\", b_cap=False)\n",
    "diff_15_cap_100 = distribution_gain(\"15\", b_cap=True)\n",
    "diff_15_cap_75 = distribution_gain(\"15\", b_cap=True, cap_percentage=0.75)\n",
    "diff_15_cap_50 = distribution_gain(\"15\", b_cap=True, cap_percentage=0.5)\n",
    "diff_15_cap_25 = distribution_gain(\"15\", b_cap=True, cap_percentage=0.25)"
   ]
  },
  {
   "cell_type": "code",
   "execution_count": null,
   "metadata": {},
   "outputs": [],
   "source": []
  },
  {
   "cell_type": "code",
   "execution_count": 97,
   "metadata": {},
   "outputs": [
    {
     "data": {
      "application/javascript": [
       "\n",
       "            setTimeout(function() {\n",
       "                var nbb_cell_id = 97;\n",
       "                var nbb_unformatted_code = \"stipplot_df = pd.concat(\\n    [diff_15, diff_15_cap_100, diff_15_cap_75, diff_15_cap_50, diff_15_cap_25], axis=1\\n)\\n\\nstipplot_df.columns = [\\n    \\\"no cap\\\",\\n    \\\"100% cap\\\",\\n    \\\"75% cap\\\",\\n    \\\"50% cap\\\",\\n    \\\"25% cap\\\",\\n]\";\n",
       "                var nbb_formatted_code = \"stipplot_df = pd.concat(\\n    [diff_15, diff_15_cap_100, diff_15_cap_75, diff_15_cap_50, diff_15_cap_25], axis=1\\n)\\n\\nstipplot_df.columns = [\\n    \\\"no cap\\\",\\n    \\\"100% cap\\\",\\n    \\\"75% cap\\\",\\n    \\\"50% cap\\\",\\n    \\\"25% cap\\\",\\n]\";\n",
       "                var nbb_cells = Jupyter.notebook.get_cells();\n",
       "                for (var i = 0; i < nbb_cells.length; ++i) {\n",
       "                    if (nbb_cells[i].input_prompt_number == nbb_cell_id) {\n",
       "                        if (nbb_cells[i].get_text() == nbb_unformatted_code) {\n",
       "                             nbb_cells[i].set_text(nbb_formatted_code);\n",
       "                        }\n",
       "                        break;\n",
       "                    }\n",
       "                }\n",
       "            }, 500);\n",
       "            "
      ],
      "text/plain": [
       "<IPython.core.display.Javascript object>"
      ]
     },
     "metadata": {},
     "output_type": "display_data"
    }
   ],
   "source": [
    "stipplot_df = pd.concat(\n",
    "    [diff_15, diff_15_cap_100, diff_15_cap_75, diff_15_cap_50, diff_15_cap_25], axis=1\n",
    ")\n",
    "\n",
    "stipplot_df.columns = [\n",
    "    \"no cap\",\n",
    "    \"100% cap\",\n",
    "    \"75% cap\",\n",
    "    \"50% cap\",\n",
    "    \"25% cap\",\n",
    "]"
   ]
  },
  {
   "cell_type": "code",
   "execution_count": 98,
   "metadata": {},
   "outputs": [
    {
     "data": {
      "application/javascript": [
       "\n",
       "            setTimeout(function() {\n",
       "                var nbb_cell_id = 98;\n",
       "                var nbb_unformatted_code = \"stipplot_df.to_excel(os.path.join(data_path, \\\"distributional_effect.xlsx\\\"))\";\n",
       "                var nbb_formatted_code = \"stipplot_df.to_excel(os.path.join(data_path, \\\"distributional_effect.xlsx\\\"))\";\n",
       "                var nbb_cells = Jupyter.notebook.get_cells();\n",
       "                for (var i = 0; i < nbb_cells.length; ++i) {\n",
       "                    if (nbb_cells[i].input_prompt_number == nbb_cell_id) {\n",
       "                        if (nbb_cells[i].get_text() == nbb_unformatted_code) {\n",
       "                             nbb_cells[i].set_text(nbb_formatted_code);\n",
       "                        }\n",
       "                        break;\n",
       "                    }\n",
       "                }\n",
       "            }, 500);\n",
       "            "
      ],
      "text/plain": [
       "<IPython.core.display.Javascript object>"
      ]
     },
     "metadata": {},
     "output_type": "display_data"
    }
   ],
   "source": [
    "stipplot_df.to_excel(os.path.join(data_path, \"distributional_effect.xlsx\"))"
   ]
  },
  {
   "cell_type": "code",
   "execution_count": 99,
   "metadata": {},
   "outputs": [
    {
     "data": {
      "application/javascript": [
       "\n",
       "            setTimeout(function() {\n",
       "                var nbb_cell_id = 99;\n",
       "                var nbb_unformatted_code = \"import seaborn as sns\";\n",
       "                var nbb_formatted_code = \"import seaborn as sns\";\n",
       "                var nbb_cells = Jupyter.notebook.get_cells();\n",
       "                for (var i = 0; i < nbb_cells.length; ++i) {\n",
       "                    if (nbb_cells[i].input_prompt_number == nbb_cell_id) {\n",
       "                        if (nbb_cells[i].get_text() == nbb_unformatted_code) {\n",
       "                             nbb_cells[i].set_text(nbb_formatted_code);\n",
       "                        }\n",
       "                        break;\n",
       "                    }\n",
       "                }\n",
       "            }, 500);\n",
       "            "
      ],
      "text/plain": [
       "<IPython.core.display.Javascript object>"
      ]
     },
     "metadata": {},
     "output_type": "display_data"
    }
   ],
   "source": [
    "import seaborn as sns"
   ]
  },
  {
   "cell_type": "code",
   "execution_count": 100,
   "metadata": {},
   "outputs": [
    {
     "data": {
      "image/png": "[encoded data removed]",
      "text/plain": [
       "<Figure size 288x432 with 1 Axes>"
      ]
     },
     "metadata": {
      "needs_background": "light"
     },
     "output_type": "display_data"
    },
    {
     "data": {
      "application/javascript": [
       "\n",
       "            setTimeout(function() {\n",
       "                var nbb_cell_id = 100;\n",
       "                var nbb_unformatted_code = \"fig, ax = plt.subplots(figsize=(4, 6))\\nplt.xticks(fontsize=18, rotation=90, fontname=\\\"Arial\\\")\\nplt.yticks(fontsize=18, fontname=\\\"Arial\\\")\\nsns.stripplot(data=stipplot_df, color=\\\".3\\\", jitter=True)\\nfig.tight_layout()\\nplt.savefig(\\n    r\\\"D:\\\\tencent_files\\\\chrome_Download\\\\Research\\\\DEA\\\\Emission_alloc&trade\\\\Figure\\\\distributional_effect.png\\\",\\n    transparent=True,\\n)\";\n",
       "                var nbb_formatted_code = \"fig, ax = plt.subplots(figsize=(4, 6))\\nplt.xticks(fontsize=18, rotation=90, fontname=\\\"Arial\\\")\\nplt.yticks(fontsize=18, fontname=\\\"Arial\\\")\\nsns.stripplot(data=stipplot_df, color=\\\".3\\\", jitter=True)\\nfig.tight_layout()\\nplt.savefig(\\n    r\\\"D:\\\\tencent_files\\\\chrome_Download\\\\Research\\\\DEA\\\\Emission_alloc&trade\\\\Figure\\\\distributional_effect.png\\\",\\n    transparent=True,\\n)\";\n",
       "                var nbb_cells = Jupyter.notebook.get_cells();\n",
       "                for (var i = 0; i < nbb_cells.length; ++i) {\n",
       "                    if (nbb_cells[i].input_prompt_number == nbb_cell_id) {\n",
       "                        if (nbb_cells[i].get_text() == nbb_unformatted_code) {\n",
       "                             nbb_cells[i].set_text(nbb_formatted_code);\n",
       "                        }\n",
       "                        break;\n",
       "                    }\n",
       "                }\n",
       "            }, 500);\n",
       "            "
      ],
      "text/plain": [
       "<IPython.core.display.Javascript object>"
      ]
     },
     "metadata": {},
     "output_type": "display_data"
    }
   ],
   "source": [
    "fig, ax = plt.subplots(figsize=(4, 6))\n",
    "plt.xticks(fontsize=18, rotation=90, fontname=\"Arial\")\n",
    "plt.yticks(fontsize=18, fontname=\"Arial\")\n",
    "sns.stripplot(data=stipplot_df, color=\".3\", jitter=True)\n",
    "fig.tight_layout()\n",
    "plt.savefig(\n",
    "    r\"D:\\tencent_files\\chrome_Download\\Research\\DEA\\Emission_alloc&trade\\Figure\\distributional_effect.png\",\n",
    "    transparent=True,\n",
    ")"
   ]
  }
 ],
 "metadata": {
  "kernelspec": {
   "display_name": "base",
   "language": "python",
   "name": "base"
  },
  "language_info": {
   "codemirror_mode": {
    "name": "ipython",
    "version": 3
   },
   "file_extension": ".py",
   "mimetype": "text/x-python",
   "name": "python",
   "nbconvert_exporter": "python",
   "pygments_lexer": "ipython3",
   "version": "3.7.3"
  },
  "toc": {
   "base_numbering": 1,
   "nav_menu": {},
   "number_sections": true,
   "sideBar": true,
   "skip_h1_title": false,
   "title_cell": "Table of Contents",
   "title_sidebar": "Contents",
   "toc_cell": false,
   "toc_position": {},
   "toc_section_display": true,
   "toc_window_display": false
  }
 },
 "nbformat": 4,
 "nbformat_minor": 4
}
